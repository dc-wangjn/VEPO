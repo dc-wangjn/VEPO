{
 "cells": [
  {
   "cell_type": "code",
   "execution_count": 1,
   "metadata": {},
   "outputs": [
    {
     "name": "stderr",
     "output_type": "stream",
     "text": [
      "/Users/shic6/Documents/TestMA/code_data/code_data/_QRF.py:142: SyntaxWarning: \"is\" with a literal. Did you mean \"==\"?\n",
      "  if uv is 0: # debug. E(X_t|X_t-1). for CV too.\n"
     ]
    }
   ],
   "source": [
    "import code_data"
   ]
  },
  {
   "cell_type": "code",
   "execution_count": 8,
   "metadata": {},
   "outputs": [],
   "source": [
    "from code_data._utility import * \n",
    "from code_data._QRF import * \n",
    "from code_data._core_test_fun import *\n",
    "from code_data._DGP_Ohio import *\n",
    "from code_data._uti_basic import * \n",
    "from code_data._utility_RL import * \n",
    "os.environ[\"OMP_NUM_THREADS\"] = \"1\"\n",
    "n_cores = multiprocessing.cpu_count()"
   ]
  },
  {
   "cell_type": "code",
   "execution_count": 9,
   "metadata": {},
   "outputs": [],
   "source": [
    "import sys, os\n",
    "path = os.getcwd() + \"/code_data/Data_Ohio.csv\"\n",
    "data = pd.read_csv(path, header = 0)\n",
    "data0 = np.array(data)"
   ]
  },
  {
   "cell_type": "code",
   "execution_count": 19,
   "metadata": {},
   "outputs": [],
   "source": [
    "data1 = data0[0:1100,:]\n",
    "data2 = data0[1100:2200,:]\n",
    "data3 = data0[2200:3300,:]\n",
    "data4 = data0[3300:4400,:]\n",
    "data5 = data0[4400:5500,:]\n",
    "data6 = data0[5500:6600,:]"
   ]
  },
  {
   "cell_type": "code",
   "execution_count": 18,
   "metadata": {},
   "outputs": [
    {
     "data": {
      "text/plain": [
       "array([12., 95.,  0.,  0.,  0.])"
      ]
     },
     "execution_count": 18,
     "metadata": {},
     "output_type": "execute_result"
    }
   ],
   "source": []
  },
  {
   "cell_type": "code",
   "execution_count": null,
   "metadata": {},
   "outputs": [],
   "source": []
  }
 ],
 "metadata": {
  "kernelspec": {
   "display_name": "Python 3",
   "language": "python",
   "name": "python3"
  },
  "language_info": {
   "codemirror_mode": {
    "name": "ipython",
    "version": 3
   },
   "file_extension": ".py",
   "mimetype": "text/x-python",
   "name": "python",
   "nbconvert_exporter": "python",
   "pygments_lexer": "ipython3",
   "version": "3.8.3"
  }
 },
 "nbformat": 4,
 "nbformat_minor": 4
}

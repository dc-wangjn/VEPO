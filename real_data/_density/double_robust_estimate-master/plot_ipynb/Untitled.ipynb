{
 "cells": [
  {
   "cell_type": "code",
   "execution_count": 1,
   "metadata": {},
   "outputs": [],
   "source": [
    "import gym\n",
    "import torch\n",
    "import torch.nn as nn\n",
    "import torch.nn.functional as F\n",
    "import numpy as np\n",
    "from replay_memory import ReplayBuffer, PrioritizedReplayBuffer\n",
    "\n",
    "from networks import DQNBase, CosineEmbeddingNetwork,\\\n",
    "    FractionProposalNetwork, QuantileNetwork,tbQuantileNetwork, NoisyLinear\n",
    "\n",
    "\n",
    "import random\n",
    "import os\n",
    "import pickle\n",
    "import time\n",
    "from collections import deque\n",
    "import matplotlib.pyplot as plt\n",
    "from wrappers import wrap, wrap_cover, SubprocVecEnv"
   ]
  },
  {
   "cell_type": "code",
   "execution_count": 2,
   "metadata": {},
   "outputs": [
    {
     "name": "stderr",
     "output_type": "stream",
     "text": [
      "/home/sufedc_nvidia_wangjianing/anaconda3/envs/rl/lib/python3.7/site-packages/gym/envs/registration.py:14: PkgResourcesDeprecationWarning: Parameters to load are deprecated.  Call .resolve and .require separately.\n",
      "  result = entry_point.load(False)\n",
      "/home/sufedc_nvidia_wangjianing/anaconda3/envs/rl/lib/python3.7/site-packages/gym/envs/registration.py:14: PkgResourcesDeprecationWarning: Parameters to load are deprecated.  Call .resolve and .require separately.\n",
      "  result = entry_point.load(False)\n",
      "/home/sufedc_nvidia_wangjianing/anaconda3/envs/rl/lib/python3.7/site-packages/gym/envs/registration.py:14: PkgResourcesDeprecationWarning: Parameters to load are deprecated.  Call .resolve and .require separately.\n",
      "  result = entry_point.load(False)\n",
      "/home/sufedc_nvidia_wangjianing/anaconda3/envs/rl/lib/python3.7/site-packages/gym/envs/registration.py:14: PkgResourcesDeprecationWarning: Parameters to load are deprecated.  Call .resolve and .require separately.\n",
      "  result = entry_point.load(False)\n",
      "/home/sufedc_nvidia_wangjianing/anaconda3/envs/rl/lib/python3.7/site-packages/gym/envs/registration.py:14: PkgResourcesDeprecationWarning: Parameters to load are deprecated.  Call .resolve and .require separately.\n",
      "  result = entry_point.load(False)\n",
      "/home/sufedc_nvidia_wangjianing/anaconda3/envs/rl/lib/python3.7/site-packages/gym/envs/registration.py:14: PkgResourcesDeprecationWarning: Parameters to load are deprecated.  Call .resolve and .require separately.\n",
      "  result = entry_point.load(False)\n",
      "/home/sufedc_nvidia_wangjianing/anaconda3/envs/rl/lib/python3.7/site-packages/gym/envs/registration.py:14: PkgResourcesDeprecationWarning: Parameters to load are deprecated.  Call .resolve and .require separately.\n",
      "  result = entry_point.load(False)\n",
      "/home/sufedc_nvidia_wangjianing/anaconda3/envs/rl/lib/python3.7/site-packages/gym/envs/registration.py:14: PkgResourcesDeprecationWarning: Parameters to load are deprecated.  Call .resolve and .require separately.\n",
      "  result = entry_point.load(False)\n",
      "/home/sufedc_nvidia_wangjianing/anaconda3/envs/rl/lib/python3.7/site-packages/gym/envs/registration.py:14: PkgResourcesDeprecationWarning: Parameters to load are deprecated.  Call .resolve and .require separately.\n",
      "  result = entry_point.load(False)\n",
      "/home/sufedc_nvidia_wangjianing/anaconda3/envs/rl/lib/python3.7/site-packages/gym/envs/registration.py:14: PkgResourcesDeprecationWarning: Parameters to load are deprecated.  Call .resolve and .require separately.\n",
      "  result = entry_point.load(False)\n",
      "/home/sufedc_nvidia_wangjianing/anaconda3/envs/rl/lib/python3.7/site-packages/gym/envs/registration.py:14: PkgResourcesDeprecationWarning: Parameters to load are deprecated.  Call .resolve and .require separately.\n",
      "  result = entry_point.load(False)\n",
      "/home/sufedc_nvidia_wangjianing/anaconda3/envs/rl/lib/python3.7/site-packages/gym/envs/registration.py:14: PkgResourcesDeprecationWarning: Parameters to load are deprecated.  Call .resolve and .require separately.\n",
      "  result = entry_point.load(False)\n",
      "/home/sufedc_nvidia_wangjianing/anaconda3/envs/rl/lib/python3.7/site-packages/gym/envs/registration.py:14: PkgResourcesDeprecationWarning: Parameters to load are deprecated.  Call .resolve and .require separately.\n",
      "  result = entry_point.load(False)\n",
      "/home/sufedc_nvidia_wangjianing/anaconda3/envs/rl/lib/python3.7/site-packages/gym/envs/registration.py:14: PkgResourcesDeprecationWarning: Parameters to load are deprecated.  Call .resolve and .require separately.\n",
      "  result = entry_point.load(False)\n",
      "/home/sufedc_nvidia_wangjianing/anaconda3/envs/rl/lib/python3.7/site-packages/gym/envs/registration.py:14: PkgResourcesDeprecationWarning: Parameters to load are deprecated.  Call .resolve and .require separately.\n",
      "  result = entry_point.load(False)\n",
      "/home/sufedc_nvidia_wangjianing/anaconda3/envs/rl/lib/python3.7/site-packages/gym/envs/registration.py:14: PkgResourcesDeprecationWarning: Parameters to load are deprecated.  Call .resolve and .require separately.\n",
      "  result = entry_point.load(False)\n"
     ]
    },
    {
     "name": "stdout",
     "output_type": "stream",
     "text": [
      "\u001b[33mWARN: gym.spaces.Box autodetected dtype as <class 'numpy.uint8'>. Please provide explicit dtype.\u001b[0m\n",
      "\u001b[33mWARN: gym.spaces.Box autodetected dtype as <class 'numpy.uint8'>. Please provide explicit dtype.\u001b[0m\n",
      "\u001b[33mWARN: gym.spaces.Box autodetected dtype as <class 'numpy.float32'>. Please provide explicit dtype.\u001b[0m\n",
      "\u001b[33mWARN: gym.spaces.Box autodetected dtype as <class 'numpy.float32'>. Please provide explicit dtype.\u001b[0m\n",
      "\u001b[33mWARN: gym.spaces.Box autodetected dtype as <class 'numpy.uint8'>. Please provide explicit dtype.\u001b[0m\n",
      "\u001b[33mWARN: gym.spaces.Box autodetected dtype as <class 'numpy.uint8'>. Please provide explicit dtype.\u001b[0m\n",
      "\u001b[33mWARN: gym.spaces.Box autodetected dtype as <class 'numpy.uint8'>. Please provide explicit dtype.\u001b[0m\n",
      "\u001b[33mWARN: gym.spaces.Box autodetected dtype as <class 'numpy.float32'>. Please provide explicit dtype.\u001b[0m\n",
      "USE GPU: True\n",
      "\u001b[33mWARN: gym.spaces.Box autodetected dtype as <class 'numpy.uint8'>. Please provide explicit dtype.\u001b[0m\n",
      "\u001b[33mWARN: gym.spaces.Box autodetected dtype as <class 'numpy.uint8'>. Please provide explicit dtype.\u001b[0m\n",
      "\u001b[33mWARN: gym.spaces.Box autodetected dtype as <class 'numpy.float32'>. Please provide explicit dtype.\u001b[0m\n",
      "\u001b[33mWARN: gym.spaces.Box autodetected dtype as <class 'numpy.uint8'>. Please provide explicit dtype.\u001b[0m\n",
      "\u001b[33mWARN: gym.spaces.Box autodetected dtype as <class 'numpy.uint8'>. Please provide explicit dtype.\u001b[0m\n",
      "\u001b[33mWARN: gym.spaces.Box autodetected dtype as <class 'numpy.float32'>. Please provide explicit dtype.\u001b[0m\n",
      "\u001b[33mWARN: gym.spaces.Box autodetected dtype as <class 'numpy.uint8'>. Please provide explicit dtype.\u001b[0m\n",
      "\u001b[33mWARN: gym.spaces.Box autodetected dtype as <class 'numpy.uint8'>. Please provide explicit dtype.\u001b[0m\n",
      "\u001b[33mWARN: gym.spaces.Box autodetected dtype as <class 'numpy.float32'>. Please provide explicit dtype.\u001b[0m\n",
      "\u001b[33mWARN: gym.spaces.Box autodetected dtype as <class 'numpy.uint8'>. Please provide explicit dtype.\u001b[0m\n",
      "\u001b[33mWARN: gym.spaces.Box autodetected dtype as <class 'numpy.uint8'>. Please provide explicit dtype.\u001b[0m\n",
      "\u001b[33mWARN: gym.spaces.Box autodetected dtype as <class 'numpy.float32'>. Please provide explicit dtype.\u001b[0m\n",
      "\u001b[33mWARN: gym.spaces.Box autodetected dtype as <class 'numpy.uint8'>. Please provide explicit dtype.\u001b[0m\n",
      "\u001b[33mWARN: gym.spaces.Box autodetected dtype as <class 'numpy.uint8'>. Please provide explicit dtype.\u001b[0m\n",
      "\u001b[33mWARN: gym.spaces.Box autodetected dtype as <class 'numpy.float32'>. Please provide explicit dtype.\u001b[0m\n",
      "\u001b[33mWARN: gym.spaces.Box autodetected dtype as <class 'numpy.uint8'>. Please provide explicit dtype.\u001b[0m\n",
      "\u001b[33mWARN: gym.spaces.Box autodetected dtype as <class 'numpy.uint8'>. Please provide explicit dtype.\u001b[0m\n",
      "\u001b[33mWARN: gym.spaces.Box autodetected dtype as <class 'numpy.float32'>. Please provide explicit dtype.\u001b[0m\n",
      "\u001b[33mWARN: gym.spaces.Box autodetected dtype as <class 'numpy.uint8'>. Please provide explicit dtype.\u001b[0m\n",
      "\u001b[33mWARN: gym.spaces.Box autodetected dtype as <class 'numpy.uint8'>. Please provide explicit dtype.\u001b[0m\n",
      "\u001b[33mWARN: gym.spaces.Box autodetected dtype as <class 'numpy.float32'>. Please provide explicit dtype.\u001b[0m\n",
      "\u001b[33mWARN: gym.spaces.Box autodetected dtype as <class 'numpy.uint8'>. Please provide explicit dtype.\u001b[0m\n",
      "\u001b[33mWARN: gym.spaces.Box autodetected dtype as <class 'numpy.uint8'>. Please provide explicit dtype.\u001b[0m\n",
      "\u001b[33mWARN: gym.spaces.Box autodetected dtype as <class 'numpy.float32'>. Please provide explicit dtype.\u001b[0m\n",
      "\u001b[33mWARN: gym.spaces.Box autodetected dtype as <class 'numpy.uint8'>. Please provide explicit dtype.\u001b[0m\n",
      "\u001b[33mWARN: gym.spaces.Box autodetected dtype as <class 'numpy.uint8'>. Please provide explicit dtype.\u001b[0m\n",
      "\u001b[33mWARN: gym.spaces.Box autodetected dtype as <class 'numpy.float32'>. Please provide explicit dtype.\u001b[0m\n",
      "\u001b[33mWARN: gym.spaces.Box autodetected dtype as <class 'numpy.uint8'>. Please provide explicit dtype.\u001b[0m\n",
      "\u001b[33mWARN: gym.spaces.Box autodetected dtype as <class 'numpy.uint8'>. Please provide explicit dtype.\u001b[0m\n",
      "\u001b[33mWARN: gym.spaces.Box autodetected dtype as <class 'numpy.float32'>. Please provide explicit dtype.\u001b[0m\n",
      "\u001b[33mWARN: gym.spaces.Box autodetected dtype as <class 'numpy.uint8'>. Please provide explicit dtype.\u001b[0m\n",
      "\u001b[33mWARN: gym.spaces.Box autodetected dtype as <class 'numpy.uint8'>. Please provide explicit dtype.\u001b[0m\n",
      "\u001b[33mWARN: gym.spaces.Box autodetected dtype as <class 'numpy.uint8'>. Please provide explicit dtype.\u001b[0m\n",
      "\u001b[33mWARN: gym.spaces.Box autodetected dtype as <class 'numpy.float32'>. Please provide explicit dtype.\u001b[0m\n",
      "\u001b[33mWARN: gym.spaces.Box autodetected dtype as <class 'numpy.uint8'>. Please provide explicit dtype.\u001b[0m\n",
      "\u001b[33mWARN: gym.spaces.Box autodetected dtype as <class 'numpy.float32'>. Please provide explicit dtype.\u001b[0m\n",
      "\u001b[33mWARN: gym.spaces.Box autodetected dtype as <class 'numpy.uint8'>. Please provide explicit dtype.\u001b[0m\n",
      "\u001b[33mWARN: gym.spaces.Box autodetected dtype as <class 'numpy.uint8'>. Please provide explicit dtype.\u001b[0m\n",
      "\u001b[33mWARN: gym.spaces.Box autodetected dtype as <class 'numpy.float32'>. Please provide explicit dtype.\u001b[0m\n",
      "\u001b[33mWARN: gym.spaces.Box autodetected dtype as <class 'numpy.uint8'>. Please provide explicit dtype.\u001b[0m\n",
      "\u001b[33mWARN: <class 'wrappers.FrameStack'> doesn't implement 'reset' method, but it implements deprecated '_reset' method.\u001b[0m\n",
      "\u001b[33mWARN: <class 'wrappers.FrameStack'> doesn't implement 'reset' method, but it implements deprecated '_reset' method.\u001b[0m\n",
      "\u001b[33mWARN: <class 'wrappers.FrameStack'> doesn't implement 'reset' method, but it implements deprecated '_reset' method.\u001b[0m\n",
      "\u001b[33mWARN: <class 'wrappers.FrameStack'> doesn't implement 'reset' method, but it implements deprecated '_reset' method.\u001b[0m\n",
      "\u001b[33mWARN: <class 'wrappers.FrameStack'> doesn't implement 'reset' method, but it implements deprecated '_reset' method.\u001b[0m\n",
      "\u001b[33mWARN: <class 'wrappers.FrameStack'> doesn't implement 'reset' method, but it implements deprecated '_reset' method.\u001b[0m\n",
      "\u001b[33mWARN: <class 'wrappers.FrameStack'> doesn't implement 'reset' method, but it implements deprecated '_reset' method.\u001b[0m\n",
      "\u001b[33mWARN: <class 'wrappers.FrameStack'> doesn't implement 'reset' method, but it implements deprecated '_reset' method.\u001b[0m\n",
      "\u001b[33mWARN: <class 'wrappers.FrameStack'> doesn't implement 'reset' method, but it implements deprecated '_reset' method.\u001b[0m\n",
      "\u001b[33mWARN: <class 'wrappers.FrameStack'> doesn't implement 'reset' method, but it implements deprecated '_reset' method.\u001b[0m\n",
      "\u001b[33mWARN: <class 'wrappers.FrameStack'> doesn't implement 'reset' method, but it implements deprecated '_reset' method.\u001b[0m\n",
      "\u001b[33mWARN: <class 'wrappers.FrameStack'> doesn't implement 'reset' method, but it implements deprecated '_reset' method.\u001b[0m\n",
      "\u001b[33mWARN: <class 'wrappers.FrameStack'> doesn't implement 'reset' method, but it implements deprecated '_reset' method.\u001b[0m\n",
      "\u001b[33mWARN: <class 'wrappers.FrameStack'> doesn't implement 'reset' method, but it implements deprecated '_reset' method.\u001b[0m\n",
      "\u001b[33mWARN: <class 'wrappers.FrameStack'> doesn't implement 'reset' method, but it implements deprecated '_reset' method.\u001b[0m\n",
      "\u001b[33mWARN: <class 'wrappers.FrameStack'> doesn't implement 'reset' method, but it implements deprecated '_reset' method.\u001b[0m\n"
     ]
    }
   ],
   "source": [
    "STATE_LEN = 4\n",
    "# target policy sync interval\n",
    "TARGET_REPLACE_ITER = 1\n",
    "# simulator steps for start learning\n",
    "LEARN_START = int(1e+3)\n",
    "# (prioritized) experience replay memory size\n",
    "MEMORY_CAPACITY = int(1e+5)\n",
    "# simulator steps for learning interval\n",
    "LEARN_FREQ = 4\n",
    "# quantile numbers for QR-DQN\n",
    "N_QUANT = 100\n",
    "# quantiles\n",
    "QUANTS = np.linspace(0.0, 1.0, N_QUANT + 1)[1:]\n",
    "QUANTS_TARGET = (np.linspace(0.0, 1.0, N_QUANT + 1)[:-1] + QUANTS)/2\n",
    "\n",
    "\n",
    "env_name='Breakout'\n",
    "'''Environment Settings'''\n",
    "# number of environments for C51\n",
    "N_ENVS = 16\n",
    "# openai gym env name\n",
    "ENV_NAME = '{}NoFrameskip-v4'.format(env_name)\n",
    "SEED = 0\n",
    "env = SubprocVecEnv([wrap_cover(ENV_NAME,SEED) for i in range(N_ENVS)])\n",
    "N_ACTIONS = env.action_space.n\n",
    "N_STATES = env.observation_space.shape\n",
    "# Total simulation step\n",
    "STEP_NUM = int(6e+6)\n",
    "# gamma for MDP\n",
    "GAMMA = 0.99\n",
    "# visualize for agent playing\n",
    "RENDERING = False\n",
    "\n",
    "'''Training settings'''\n",
    "# check GPU usage\n",
    "USE_GPU = torch.cuda.is_available()\n",
    "print('USE GPU: '+str(USE_GPU))\n",
    "# mini-batch size\n",
    "BATCH_SIZE = 32\n",
    "# learning rage\n",
    "LR = 5e-5\n",
    "# epsilon-greedy\n",
    "EPSILON = 1.0"
   ]
  },
  {
   "cell_type": "code",
   "execution_count": 3,
   "metadata": {},
   "outputs": [
    {
     "data": {
      "text/plain": [
       "4"
      ]
     },
     "execution_count": 3,
     "metadata": {},
     "output_type": "execute_result"
    }
   ],
   "source": [
    "N_ACTIONS"
   ]
  },
  {
   "cell_type": "code",
   "execution_count": 3,
   "metadata": {},
   "outputs": [],
   "source": [
    "def evaluate_quantile_at_action(s_quantiles, actions):\n",
    "    assert s_quantiles.shape[0] == actions.shape[0]\n",
    "\n",
    "    batch_size = s_quantiles.shape[0]\n",
    "    N = s_quantiles.shape[1]\n",
    "\n",
    "    # Expand actions into (batch_size, N, 1).\n",
    "    action_index = actions[..., None].expand(batch_size, N, 1)\n",
    "\n",
    "    # Calculate quantile values at specified actions.\n",
    "    sa_quantiles = s_quantiles.gather(dim=2, index=action_index)\n",
    "    return sa_quantiles\n",
    "\n",
    "def calculate_huber_loss(td_errors, kappa=1.0):\n",
    "    return torch.where(\n",
    "        td_errors.abs() <= kappa,\n",
    "        0.5 * td_errors.pow(2),\n",
    "        kappa * (td_errors.abs() - 0.5 * kappa))\n",
    "\n",
    "\n",
    "def calculate_quantile_huber_loss(td_errors, taus, kappa=1.0):\n",
    "    assert not taus.requires_grad\n",
    "    batch_size, N, N_dash = td_errors.shape\n",
    "\n",
    "    # Calculate huber loss element-wisely.\n",
    "    element_wise_huber_loss = calculate_huber_loss(td_errors, kappa)\n",
    "    assert element_wise_huber_loss.shape == (\n",
    "        batch_size, N, N_dash)\n",
    "\n",
    "    # Calculate quantile huber loss element-wisely.\n",
    "    element_wise_quantile_huber_loss = torch.abs(\n",
    "        taus[..., None] - (td_errors.detach() < 0).float()\n",
    "        ) * element_wise_huber_loss / kappa\n",
    "    assert element_wise_quantile_huber_loss.shape == (\n",
    "        batch_size, N, N_dash)\n",
    "\n",
    "    return element_wise_quantile_huber_loss.sum(dim=1).mean()\n",
    "\n",
    "class Flatten(nn.Module):\n",
    "    def forward(self, x):\n",
    "        return x.view(x.size(0), -1)\n",
    "class ConvNet(nn.Module):\n",
    "    def __init__(self):\n",
    "        super(ConvNet, self).__init__()\n",
    "        # nn.Sequential\n",
    "        self.feature_extraction = nn.Sequential(\n",
    "            nn.Conv2d(STATE_LEN, 32, kernel_size=8, stride=4),\n",
    "            nn.ReLU(),\n",
    "            nn.Conv2d(32, 64, kernel_size=4, stride=2),\n",
    "            nn.ReLU(),\n",
    "            nn.Conv2d(64, 64, kernel_size=3, stride=1),\n",
    "            nn.ReLU(),\n",
    "        )\n",
    "        self.fc = nn.Linear(7 * 7 * 64, 512)\n",
    "        \n",
    "        # action value distribution\n",
    "        self.fc_q = nn.Linear(512, N_ACTIONS * N_QUANT) \n",
    "            \n",
    "        self.weight_net = nn.Sequential(\n",
    "                nn.Linear(7 * 7 * 64, 512),\n",
    "                nn.ReLU(),\n",
    "                nn.Linear(512, 2*N_ACTIONS),\n",
    "            )\n",
    "        self.relu = nn.ReLU()\n",
    "        \n",
    "        # Initialization\n",
    "        for m in self.modules():\n",
    "            if isinstance(m, nn.Conv2d):\n",
    "                # nn.init.orthogonal_(m.weight, gain = np.sqrt(2))\n",
    "                nn.init.xavier_normal_(m.weight)\n",
    "                nn.init.constant_(m.bias, 0.0)\n",
    "            elif isinstance(m, nn.Linear):\n",
    "                nn.init.kaiming_normal_(m.weight)\n",
    "                nn.init.constant_(m.bias, 0.0)\n",
    "            \n",
    "\n",
    "    def forward(self, x):\n",
    "        # x.size(0) : minibatch size\n",
    "        mb_size = x.size(0)\n",
    "        # x: (m, 84, 84, 4) tensor\n",
    "        x = self.feature_extraction(x / 255.0)\n",
    "        # x.size(0) : mini-batch size\n",
    "        state_embeddings = x.view(x.size(0), -1)       \n",
    "        x = F.relu(self.fc(state_embeddings))\n",
    "        quantiles = self.fc_q(x).view(mb_size, N_QUANT, N_ACTIONS)\n",
    "\n",
    "        weight = self.weight_net(state_embeddings).view(mb_size, 2, N_ACTIONS)\n",
    "        w = weight[:,0,:].unsqueeze(dim=1).expand(quantiles.shape)\n",
    "        w = self.relu(w)\n",
    "        b = weight[:,1,:].unsqueeze(dim=1).expand(quantiles.shape)\n",
    "        log_probs = F.log_softmax(quantiles, dim=1)\n",
    "        probs = torch.cumsum(log_probs.exp(),dim=1)\n",
    "        nc_quantiles = w*probs+b \n",
    "  \n",
    "               \n",
    "        return nc_quantiles.transpose(1,2)\n",
    "\n",
    "    def save(self, PATH):\n",
    "        torch.save(self.state_dict(),PATH)\n",
    "\n",
    "    def load(self, PATH):\n",
    "        self.load_state_dict(torch.load(PATH))\n",
    "\n",
    "class TBQRDQN(object):\n",
    "    def __init__(self):\n",
    "        self.pred_net, self.target_net = ConvNet(), ConvNet()\n",
    "        # sync eval target\n",
    "        self.update_target(self.target_net, self.pred_net, 1.0)\n",
    "        # use gpu\n",
    "        if USE_GPU:\n",
    "            self.pred_net.cuda()\n",
    "            self.target_net.cuda()\n",
    "            \n",
    "        # simulator step conter\n",
    "        self.memory_counter = 0\n",
    "        # target network step counter\n",
    "        self.learn_step_counter = 0\n",
    "        \n",
    "        # ceate the replay buffer\n",
    "        self.replay_buffer = ReplayBuffer(MEMORY_CAPACITY)\n",
    "        \n",
    "        # define optimizer\n",
    "        self.optimizer = torch.optim.Adam(self.pred_net.parameters(), lr=LR)\n",
    "        \n",
    "        \n",
    "    def update_target(self, target, pred, update_rate):\n",
    "        # update target network parameters using predcition network\n",
    "        for target_param, pred_param in zip(target.parameters(), pred.parameters()):\n",
    "            target_param.data.copy_((1.0 - update_rate) \\\n",
    "                                    * target_param.data + update_rate*pred_param.data)\n",
    "            \n",
    "    def save_model(self):\n",
    "        # save prediction network and target network\n",
    "        self.pred_net.save(PRED_PATH)\n",
    "#         self.target_net.save(TARGET_PATH)\n",
    "\n",
    "    def load_model(self,pred_path):\n",
    "        # load prediction network and target network\n",
    "        self.pred_net.load(pred_path)\n",
    "#         self.target_net.load(TARGET_PATH)\n",
    "\n",
    "    def choose_action(self, x, EPSILON):\n",
    "        x = torch.FloatTensor(x)\n",
    "        if USE_GPU:\n",
    "            x = x.cuda()\n",
    "\n",
    "        if np.random.uniform() >= EPSILON:\n",
    "            # greedy case\n",
    "            action_value = self.pred_net(x).mean(dim=2) # (N_ENVS, N_ACTIONS)\n",
    "            action = torch.argmax(action_value, dim=1).data.cpu().numpy()\n",
    "        else:\n",
    "            # random exploration case\n",
    "            action = np.random.randint(0, N_ACTIONS, (x.size(0)))\n",
    "        return action\n",
    "\n",
    "    def store_transition(self, s, a, r, s_, done):\n",
    "        self.memory_counter += 1\n",
    "        self.replay_buffer.add(s, a, r, s_, float(done))\n",
    "\n",
    "    def learn(self):\n",
    "        self.learn_step_counter += 1\n",
    "        # target parameter update\n",
    "        if self.learn_step_counter % TARGET_REPLACE_ITER == 0:\n",
    "            self.update_target(self.target_net, self.pred_net, 1e-2)\n",
    "    \n",
    "        b_s, b_a, b_r,b_s_, b_d = self.replay_buffer.sample(BATCH_SIZE)\n",
    "        b_w, b_idxes = np.ones_like(b_r), None\n",
    "            \n",
    "        b_s = torch.FloatTensor(b_s)\n",
    "        b_a = torch.LongTensor(b_a)\n",
    "        b_r = torch.FloatTensor(b_r)\n",
    "        b_s_ = torch.FloatTensor(b_s_)\n",
    "        b_d = torch.FloatTensor(b_d)\n",
    "\n",
    "        if USE_GPU:\n",
    "            b_s, b_a, b_r, b_s_, b_d = b_s.cuda(), b_a.cuda(), b_r.cuda(), b_s_.cuda(), b_d.cuda()\n",
    "\n",
    "        # action value distribution prediction\n",
    "        q_eval = self.pred_net(b_s) # (m, N_ACTIONS, N_QUANT)\n",
    "#         x = q_eval.cpu().detach().numpy()\n",
    "        mb_size = q_eval.size(0)\n",
    "        q_eval = torch.stack([q_eval[i].index_select(0, b_a[i]) for i in range(mb_size)]).squeeze(1) \n",
    "        # (m, N_QUANT)\n",
    "        q_eval = q_eval.unsqueeze(2) # (m, N_QUANT, 1)\n",
    "        # note that dim 1 is for present quantile, dim 2 is for next quantile\n",
    "        \n",
    "        # get next state value\n",
    "        q_next = self.target_net(b_s_).detach() # (m, N_ACTIONS, N_QUANT)\n",
    "        best_actions = q_next.mean(dim=2).argmax(dim=1) # (m)\n",
    "        q_next = torch.stack([q_next[i].index_select(0, best_actions[i]) for i in range(mb_size)]).squeeze(1)\n",
    "        # (m, N_QUANT)\n",
    "        q_target = b_r.unsqueeze(1) + GAMMA * (1. -b_d.unsqueeze(1)) * q_next \n",
    "        # (m, N_QUANT)\n",
    "        q_target = q_target.unsqueeze(1) # (m , 1, N_QUANT)\n",
    "\n",
    "        # quantile Huber loss\n",
    "        u = q_target.detach() - q_eval # (m, N_QUANT, N_QUANT)\n",
    "        tau = torch.FloatTensor(QUANTS_TARGET).view(1, -1, 1) # (1, N_QUANT, 1)\n",
    "        # note that tau is for present quantile\n",
    "        if USE_GPU:\n",
    "            tau = tau.cuda()\n",
    "        weight = torch.abs(tau - u.le(0.).float()) # (m, N_QUANT, N_QUANT)\n",
    "        loss = F.smooth_l1_loss(q_eval, q_target.detach(), reduction='none')\n",
    "        # (m, N_QUANT, N_QUANT)\n",
    "        loss = torch.mean(weight * loss, dim=1).mean(dim=1)\n",
    "        # print('1',loss.numpy())\n",
    "        \n",
    "        # calc importance weighted loss\n",
    "        b_w = torch.Tensor(b_w)\n",
    "        \n",
    "        if USE_GPU:\n",
    "            b_w = b_w.cuda()\n",
    "        # loos = b_w * loss\n",
    "        # print('2',(b_w * loss).numpy())\n",
    "        loss = torch.mean(b_w * loss)\n",
    "        \n",
    "        # backprop loss\n",
    "        self.optimizer.zero_grad()\n",
    "        loss.backward()\n",
    "#         torch.nn.utils.clip_grad_norm_(self.pred_net.parameters(),0.1)\n",
    "        self.optimizer.step()\n",
    "#         return x\n",
    "\n",
    "class QRDQN(nn.Module):\n",
    "    def __init__(self):\n",
    "        super(QRDQN, self).__init__()\n",
    "        # nn.Sequential\n",
    "        self.feature_extraction = nn.Sequential(\n",
    "            nn.Conv2d(STATE_LEN, 32, kernel_size=8, stride=4),\n",
    "            nn.ReLU(),\n",
    "            nn.Conv2d(32, 64, kernel_size=4, stride=2),\n",
    "            nn.ReLU(),\n",
    "            nn.Conv2d(64, 64, kernel_size=3, stride=1),\n",
    "            nn.ReLU(),\n",
    "        )\n",
    "        self.fc = nn.Linear(7 * 7 * 64, 512)\n",
    "        \n",
    "        # action value distribution\n",
    "        self.fc_q = nn.Linear(512, N_ACTIONS * N_QUANT) \n",
    "            \n",
    "        torch.manual_seed(SEED)\n",
    "        # Initialization\n",
    "        for m in self.modules():\n",
    "            if isinstance(m, nn.Conv2d):\n",
    "                # nn.init.orthogonal_(m.weight, gain = np.sqrt(2))\n",
    "                nn.init.xavier_normal_(m.weight)\n",
    "                nn.init.constant_(m.bias, 0.0)\n",
    "            elif isinstance(m, nn.Linear):\n",
    "                nn.init.kaiming_normal_(m.weight)\n",
    "                nn.init.constant_(m.bias, 0.0)\n",
    "            \n",
    "\n",
    "    def forward(self, x):\n",
    "        # x.size(0) : minibatch size\n",
    "        mb_size = x.size(0)\n",
    "        # x: (m, 84, 84, 4) tensor\n",
    "        x = self.feature_extraction(x / 255.0)\n",
    "        # x.size(0) : mini-batch size\n",
    "        x = x.view(x.size(0), -1)\n",
    "        x = F.relu(self.fc(x))\n",
    "        \n",
    "        # note that output of QR-DQN is quantile values of value distribution\n",
    "        action_value = self.fc_q(x).view(mb_size, N_ACTIONS, N_QUANT)\n",
    "\n",
    "        return action_value\n",
    "\n",
    "    def save(self, PATH):\n",
    "        torch.save(self.state_dict(),PATH)\n",
    "\n",
    "    def load(self, PATH):\n",
    "        self.load_state_dict(torch.load(PATH))\n",
    "        \n",
    "\n",
    "        \n",
    "\n",
    "class TBIQN(nn.Module):\n",
    "    def __init__(self):\n",
    "        super(TBIQN, self).__init__()\n",
    "\n",
    "        self.feature_extraction = nn.Sequential(\n",
    "        \t# Conv2d(输入channels, 输出channels, kernel_size, stride)\n",
    "            nn.Conv2d(STATE_LEN, 32, kernel_size=8, stride=4),\n",
    "            nn.ReLU(),\n",
    "            nn.Conv2d(32, 64, kernel_size=4, stride=2),\n",
    "            nn.ReLU(),\n",
    "            nn.Conv2d(64, 64, kernel_size=3, stride=1),\n",
    "            nn.ReLU(),\n",
    "        )\n",
    "        self.phi = nn.Linear(1, 7 * 7 * 64, bias=False)\n",
    "        self.phi_bias = nn.Parameter(torch.zeros(7 * 7 * 64))\n",
    "        self.fc = nn.Linear(7 * 7 * 64, 512)\n",
    "        \n",
    "        # action value distribution\n",
    "        self.fc_q = nn.Linear(512, N_ACTIONS) \n",
    "        self.weight_net = nn.Sequential(\n",
    "                nn.Linear(7 * 7 * 64, 512),\n",
    "                nn.ReLU(),\n",
    "                nn.Linear(512, 2*N_ACTIONS),\n",
    "            )\n",
    "        self.relu = nn.ReLU()\n",
    "               \n",
    "        # Initialization \n",
    "        for m in self.modules():\n",
    "            if isinstance(m, nn.Conv2d):\n",
    "                # nn.init.orthogonal_(m.weight, gain = np.sqrt(2))\n",
    "                nn.init.xavier_normal_(m.weight)\n",
    "                if m.bias is not None:\n",
    "                    nn.init.constant_(m.bias, 0.0)\n",
    "            elif isinstance(m, nn.Linear):\n",
    "                nn.init.kaiming_normal_(m.weight)\n",
    "                if m.bias is not None:\n",
    "                    nn.init.constant_(m.bias, 0.0)\n",
    "            \n",
    "    def forward(self, x, n):\n",
    "        # x.size(0) : minibatch size\n",
    "        mb_size = x.size(0)\n",
    "        x = self.feature_extraction(x / 255.0) # (m, 7 * 7 * 64)\n",
    "        state_embeddings = x.view(x.size(0), -1) \n",
    "        # Rand Initlialization\n",
    "        tau = torch.sort(torch.rand(n, 1),dim=0)[0] # (N_QUANT, 1)\n",
    "        # Quants=[1,2,3,...,N_QUANT]\n",
    "        quants = torch.arange(0, 64, 1.0) # (N_QUANT,) paper says quans should vary from 0 to 64\n",
    "        if USE_GPU:\n",
    "            tau = tau.cuda()\n",
    "            quants = quants.cuda()\n",
    "        # phi_j(tau) = RELU(sum(cos(π*i*τ)*w_ij + b_j))\n",
    "        cos_trans = torch.cos(quants * tau * 3.141592).unsqueeze(2) # (N_QUANT, N_QUANT, 1)\n",
    "        rand_feat = F.relu(self.phi(cos_trans).mean(dim=1) + self.phi_bias.unsqueeze(0)).unsqueeze(0) \n",
    "        # (1, N_QUANT, 7 * 7 * 64)\n",
    "        x = x.view(x.size(0), -1).unsqueeze(1)  # (m, 1, 7 * 7 * 64)\n",
    "        # Zτ(x,a) ≈ f(ψ(x) @ φ(τ))a  @表示按元素相乘\n",
    "        x = x * rand_feat                       # (m, N_QUANT, 7 * 7 * 64)\n",
    "        x = F.relu(self.fc(x))                  # (m, N_QUANT, 512)\n",
    "        \n",
    "        # note that output of IQN is quantile values of value distribution\n",
    "        quantiles = self.fc_q(x) # (m, N_QUANT, N_ACTIONS)\n",
    "        \n",
    "        weight = self.weight_net(state_embeddings).view(mb_size, 2, N_ACTIONS)\n",
    "        w = weight[:,0,:].unsqueeze(dim=1).expand(quantiles.shape)\n",
    "        w = self.relu(w)\n",
    "        b = weight[:,1,:].unsqueeze(dim=1).expand(quantiles.shape)\n",
    "        log_probs = F.log_softmax(quantiles, dim=1)\n",
    "        probs = torch.cumsum(log_probs.exp(),dim=1)\n",
    "        nc_quantiles = w*probs+b \n",
    "        return nc_quantiles.transpose(1, 2), tau\n",
    "\n",
    "\n",
    "    def save(self, PATH):\n",
    "        torch.save(self.state_dict(),PATH)\n",
    "\n",
    "    def load(self, PATH):\n",
    "        self.load_state_dict(torch.load(PATH))\n",
    "\n",
    "class IQN(nn.Module):\n",
    "    def __init__(self):\n",
    "        super(IQN, self).__init__()\n",
    "\n",
    "        self.feature_extraction = nn.Sequential(\n",
    "        \t# Conv2d(输入channels, 输出channels, kernel_size, stride)\n",
    "            nn.Conv2d(STATE_LEN, 32, kernel_size=8, stride=4),\n",
    "            nn.ReLU(),\n",
    "            nn.Conv2d(32, 64, kernel_size=4, stride=2),\n",
    "            nn.ReLU(),\n",
    "            nn.Conv2d(64, 64, kernel_size=3, stride=1),\n",
    "            nn.ReLU(),\n",
    "        )\n",
    "        self.phi = nn.Linear(1, 7 * 7 * 64, bias=False)\n",
    "        self.phi_bias = nn.Parameter(torch.zeros(7 * 7 * 64))\n",
    "        self.fc = nn.Linear(7 * 7 * 64, 512)\n",
    "        \n",
    "        # action value distribution\n",
    "        self.fc_q = nn.Linear(512, N_ACTIONS) \n",
    "        \n",
    "        # Initialization \n",
    "        for m in self.modules():\n",
    "            if isinstance(m, nn.Conv2d):\n",
    "                # nn.init.orthogonal_(m.weight, gain = np.sqrt(2))\n",
    "                nn.init.xavier_normal_(m.weight)\n",
    "                if m.bias is not None:\n",
    "                    nn.init.constant_(m.bias, 0.0)\n",
    "            elif isinstance(m, nn.Linear):\n",
    "                nn.init.kaiming_normal_(m.weight)\n",
    "                if m.bias is not None:\n",
    "                    nn.init.constant_(m.bias, 0.0)\n",
    "            \n",
    "    def forward(self, x,n):\n",
    "        # x.size(0) : minibatch size\n",
    "        mb_size = x.size(0)\n",
    "        x = self.feature_extraction(x / 255.0) # (m, 7 * 7 * 64)\n",
    "        # Rand Initlialization\n",
    "        tau = torch.rand(n, 1) # (N_QUANT, 1)\n",
    "        # Quants=[1,2,3,...,N_QUANT]\n",
    "        quants = torch.arange(0, 64, 1.0) # (N_QUANT,1)\n",
    "        if USE_GPU:\n",
    "            tau = tau.cuda()\n",
    "            quants = quants.cuda()\n",
    "        # phi_j(tau) = RELU(sum(cos(π*i*τ)*w_ij + b_j))\n",
    "        cos_trans = torch.cos(quants * tau * 3.141592).unsqueeze(2) # (N_QUANT, N_QUANT, 1)\n",
    "        rand_feat = F.relu(self.phi(cos_trans).mean(dim=1) + self.phi_bias.unsqueeze(0)).unsqueeze(0) \n",
    "        # (1, N_QUANT, 7 * 7 * 64)\n",
    "        x = x.view(x.size(0), -1).unsqueeze(1)  # (m, 1, 7 * 7 * 64)\n",
    "        # Zτ(x,a) ≈ f(ψ(x) @ φ(τ))a  @表示按元素相乘\n",
    "        x = x * rand_feat                       # (m, N_QUANT, 7 * 7 * 64)\n",
    "        x = F.relu(self.fc(x))                  # (m, N_QUANT, 512)\n",
    "        \n",
    "        # note that output of IQN is quantile values of value distribution\n",
    "        action_value = self.fc_q(x).transpose(1, 2) # (m, N_ACTIONS, N_QUANT)\n",
    "\n",
    "        return action_value, tau\n",
    "\n",
    "\n",
    "    def save(self, PATH):\n",
    "        torch.save(self.state_dict(),PATH)\n",
    "\n",
    "    def load(self, PATH):\n",
    "        self.load_state_dict(torch.load(PATH))"
   ]
  },
  {
   "cell_type": "code",
   "execution_count": 4,
   "metadata": {},
   "outputs": [],
   "source": [
    "itera = 5\n",
    "tbqrdqn = TBQRDQN()\n",
    "\n",
    "tbqrdqn.load_model('data/qcmodel/tbqrdqns0_2net100up1_iter40_Breakout.pkl')\n",
    "\n",
    "# tbqrdqn.load_model('data/qcmodel/extbqrdqns0_net64up1_iter{}_{}.pkl'.format(itera,env_name))\n",
    "\n",
    "# # fqff = FQF()\n",
    "# # fqff.load_model('data/qcmodel/fqfregp5_pred_net32_up10_{}.pkl'.format(env_name))\n",
    "\n",
    "# # tbfqf = TBFQF()\n",
    "# # tbfqf.load('data/qcmodel/tbfqfregp5_pred_net32_up10_{}.pkl'.format(env_name))\n",
    "tbiqn = TBIQN().cuda()\n",
    "# tbiqn.load('data/qcmodel/tbiqns0_net64up1_iter{}_{}.pkl'.format(itera,env_name))\n",
    "\n",
    "# iqn.load('data/qcmodel/iqns0_net64up1_iter{}_{}.pkl'.format(itera,env_name))\n"
   ]
  },
  {
   "cell_type": "code",
   "execution_count": 5,
   "metadata": {},
   "outputs": [],
   "source": [
    "EPSILON = 0.1\n",
    "s = np.array(env.reset())\n",
    "for step in range(5000):\n",
    "    a = tbqrdqn.choose_action(s, EPSILON)\n",
    "\n",
    "    # take action and get next state\n",
    "    s_, r, done, infos = env.step(a)\n",
    "    # log arrange\n",
    "\n",
    "    s_ = np.array(s_)\n",
    "\n",
    "    # clip rewards for numerical stability\n",
    "    clip_r = np.sign(r)\n",
    "\n",
    "    # store the transition\n",
    "    for i in range(N_ENVS):\n",
    "        tbqrdqn.store_transition(s[i], a[i], clip_r[i], s_[i], done[i])\n",
    "    s = s_"
   ]
  },
  {
   "cell_type": "code",
   "execution_count": 6,
   "metadata": {},
   "outputs": [],
   "source": [
    "import cv2\n",
    "#2右3左\n",
    "for i in range(5000):    \n",
    "    s,a,r,s_,d = tbqrdqn.replay_buffer._storage[1+i*16]\n",
    "    cv2.imwrite('../figure_breakout/step{}_r{}a{}.jpg'.format(i,r,a),s[0].transpose())\n",
    " "
   ]
  },
  {
   "cell_type": "code",
   "execution_count": 10,
   "metadata": {},
   "outputs": [
    {
     "data": {
      "text/plain": [
       "([], <a list of 0 Text yticklabel objects>)"
      ]
     },
     "execution_count": 10,
     "metadata": {},
     "output_type": "execute_result"
    },
    {
     "data": {
      "image/png": "[encoded data removed]",
      "text/plain": [
       "<Figure size 432x288 with 1 Axes>"
      ]
     },
     "metadata": {},
     "output_type": "display_data"
    }
   ],
   "source": [
    "\n",
    "b_s, b_a, b_r,b_s_, b_d = tbqrdqn.replay_buffer._storage[1+707*16]\n",
    "# b_s, b_a, b_r,b_s_, b_d = self.replay_buffer.sample(BATCH_SIZE)\n",
    "b_s = torch.FloatTensor(b_s).unsqueeze(0)\n",
    "b_a = torch.LongTensor(b_a).unsqueeze(0)\n",
    "# b_r = torch.FloatTensor(b_r).unsqueeze(0)\n",
    "b_s_ = torch.FloatTensor(b_s_).unsqueeze(0)\n",
    "# b_d = torch.FloatTensor(b_d).unsqueeze(0)\n",
    "image = b_s.detach().cpu().numpy()\n",
    "fig,ax = plt.subplots()\n",
    "plt.figure(1)\n",
    "plt.imshow(image[0][0].transpose())\n",
    "plt.xticks([])\n",
    "plt.yticks([])\n",
    "# fig.savefig('../quantile_curve/state.eps',dpi=600,format='eps')"
   ]
  },
  {
   "cell_type": "code",
   "execution_count": 339,
   "metadata": {},
   "outputs": [
    {
     "name": "stdout",
     "output_type": "stream",
     "text": [
      "torch.Size([100])\n",
      "exploration_action:right_jump\n",
      "exploit_action:right_jump\n"
     ]
    },
    {
     "data": {
      "image/png": "[encoded data removed]",
      "text/plain": [
       "<Figure size 360x288 with 1 Axes>"
      ]
     },
     "metadata": {
      "needs_background": "light"
     },
     "output_type": "display_data"
    }
   ],
   "source": [
    "itera = 5\n",
    "b_s,b_a = b_s.cuda(),b_a.cuda()\n",
    "tbqrdqn.load_model('data/qcmodel/tbqrdqns0_net100up1_iter5_Breakout.pkl')\n",
    "# action_list = ['stop','jump','up','down','right','left','right_jump']\n",
    "tbq_eval5 = tbqrdqn.pred_net(b_s) # (m, N_ACTIONS, N_QUANT)\n",
    "print(tbq_eval5[0,7,:].shape)\n",
    "qq = tbq_eval5.cpu().detach().numpy()\n",
    "tbq_eval5 = tbq_eval5.index_select(1,torch.LongTensor([0,1,2,5,6,7,11]).cuda())\n",
    "median = torch.median(tbq_eval5, dim=-1).values.unsqueeze(-1).expand(tbq_eval5.shape)\n",
    "\n",
    "q = tbq_eval5.mean(dim=2)\n",
    "bonus_c = 50 * np.sqrt(np.log(tbqrdqn.memory_counter) / tbqrdqn.memory_counter)\n",
    "var_plus = torch.sqrt(torch.sum(torch.pow((torch.where(tbq_eval5 - median > 0, tbq_eval5, median) - median), 2), dim=-1)/(2*100))\n",
    "action_value = q + bonus_c * var_plus\n",
    "best_actions = action_value.argmax(dim=1).detach().cpu().numpy()[0]\n",
    "print('exploration_action:{}'.format(action_list[best_actions]))\n",
    "\n",
    "action = int(torch.argmax(q, dim=1).detach().cpu().numpy())\n",
    "print('exploit_action:{}'.format(action_list[action]))\n",
    "\n",
    "\n",
    "\n",
    "#0-不动，1跳,2上，3右走，4左走，5下，6右走，7左走，8右走，9左走，10跳（上绳子），11右跳\n",
    "#12左走，13下，14右走，15左走，16右走\n",
    "\n",
    "import matplotlib.pyplot as plt\n",
    "# plt.plot(QUANTS_TARGET,qq[0][0,:],label='stop')#停\n",
    "# plt.plot(QUANTS_TARGET,qq[0][1,:],label='jump')#跳\n",
    "# plt.plot(QUANTS_TARGET,qq[0][2,:],label='up')#上\n",
    "# plt.plot(QUANTS_TARGET,qq[0][3,:],label='action-4')\n",
    "# plt.plot(QUANTS_TARGET,qq[0][4,:],label='action-5')\n",
    "# plt.plot(QUANTS_TARGET,qq[0][5,:],label='down')#下\n",
    "plt.plot(QUANTS_TARGET,qq[0][6,:],label='right')#右\n",
    "# plt.plot(QUANTS_TARGET,qq[0][7,:],label='left')#左\n",
    "# plt.plot(QUANTS_TARGET,qq[0][8,:],label='action-9')\n",
    "# plt.plot(QUANTS_TARGET,qq[0][9,:],label='action-10')\n",
    "# plt.plot(QUANTS_TARGET,qq[0][10,:],label='action-11')\n",
    "plt.plot(QUANTS_TARGET,qq[0][11,:],label='right_jump')#右跳\n",
    "# plt.plot(QUANTS_TARGET,qq[0][12,:],label='action-13')\n",
    "# plt.plot(QUANTS_TARGET,qq[0][13,:],label='action-14')\n",
    "# plt.plot(QUANTS_TARGET,qq[0][14,:],label='action-15')\n",
    "# plt.plot(QUANTS_TARGET,qq[0][15,:],label='action-16')\n",
    "# plt.plot(QUANTS_TARGET,qq[0][16,:],label='action-17')\n",
    "# plt.plot(QUANTS_TARGET,qq[0][17,:],label='action-18')\n",
    "\n",
    "plt.title('NC-QR-DQN'.format(env_name))\n",
    "plt.xlabel('tau')\n",
    "# plt.ylabel('Value')\n",
    "plt.yticks([])\n",
    "plt.legend(loc=4)\n",
    "plt.show()\n",
    "#0-不动，1跳,2上，3右走，4左走，5下，6右走，7左走，8右走，9左走，10跳（上绳子），11右跳\n",
    "#12左走，13下，14右走，15左走，16右走"
   ]
  },
  {
   "cell_type": "code",
   "execution_count": 334,
   "metadata": {},
   "outputs": [
    {
     "name": "stdout",
     "output_type": "stream",
     "text": [
      "torch.Size([100])\n",
      "[1.0033721 1.0215689] [0.00764484 0.00950942]\n"
     ]
    },
    {
     "data": {
      "text/plain": [
       "Text(0.5, 1.0, 'Q-value v.s bonus without crossing')"
      ]
     },
     "execution_count": 334,
     "metadata": {},
     "output_type": "execute_result"
    },
    {
     "data": {
      "image/png": "[encoded data removed]",
      "text/plain": [
       "<Figure size 360x288 with 1 Axes>"
      ]
     },
     "metadata": {
      "needs_background": "light"
     },
     "output_type": "display_data"
    }
   ],
   "source": [
    "b_s,b_a = b_s.cuda(),b_a.cuda()\n",
    "tbqrdqn.load_model('data/model/extbqrdqn_100_net_MontezumaRevenge.pkl')\n",
    "action_list = ['stop','jump','up','down','right','left','right_jump']\n",
    "tbq_eval5 = tbqrdqn.pred_net(b_s) # (m, N_ACTIONS, N_QUANT)\n",
    "print(tbq_eval5[0,7,:].shape)\n",
    "qq = tbq_eval5.cpu().detach().numpy()\n",
    "# tbq_eval5 = tbq_eval5.index_select(1,torch.LongTensor([0,1,2,5,6,7,11]).cuda())\n",
    "# q_val = tbq_eval5.index_select(1,torch.LongTensor([2,11]).cuda())\n",
    "median = torch.median(tbq_eval5, dim=-1).values.unsqueeze(-1).expand(tbq_eval5.shape)\n",
    "\n",
    "q = tbq_eval5.mean(dim=2)\n",
    "bonus_c = 50 * np.sqrt(np.log(tbqrdqn.memory_counter) / tbqrdqn.memory_counter)\n",
    "var_plus = torch.sqrt(torch.sum(torch.pow((torch.where(tbq_eval5 - median > 0, tbq_eval5, median) - median), 2), dim=-1)/(2*100))\n",
    "action_value = q + bonus_c * var_plus\n",
    "q_val = q.index_select(1,torch.LongTensor([6,11]).cuda()).detach().cpu().numpy()[0]\n",
    "b = (bonus_c * var_plus).index_select(1,torch.LongTensor([6,11]).cuda()).detach().cpu().numpy()[0]\n",
    "# best_actions = action_value.argmax(dim=1).detach().cpu().numpy()[0]\n",
    "print(q_val,b)\n",
    "\n",
    "ind = [' ','right','right_jump',' ']\n",
    "x_pos = np.array([0,0.5,1.5,2.3])\n",
    "width = 0.5\n",
    "q_val = np.concatenate(([0],q_val,[0]))\n",
    "b = np.concatenate(([0],b,[0]))\n",
    "fig = plt.figure(figsize=(5,4))\n",
    "ax = fig.add_subplot(111)\n",
    "ax.bar(x_pos, q_val,width,color='#00008B',align='center',label='Q-value')\n",
    "ax.bar(x_pos, b*70,width,bottom = q_val,color='#00FFFF',align='center',label='Bonus')\n",
    "ax.set_xticks(x_pos)\n",
    "ax.set_xticklabels(ind)\n",
    "ax.set_yticks([])\n",
    "\n",
    "\n",
    "# ind = ['right','right_jump']\n",
    "# width = 0.3\n",
    "# params = {\n",
    "#     'figure.figsize': '5, 4'\n",
    "# }\n",
    "# plt.rcParams.update(params)\n",
    "# plt.bar(ind, q_val, width, color='#00008B',label='q-value')#, yerr=menStd)\n",
    "# plt.bar(ind, b*70, width, bottom=q_val,color='#00FFFF',label='bonus')\n",
    "# # plt.ylim(min(q_val))\n",
    "# plt.yticks([])\n",
    "plt.legend()\n",
    "plt.title('Q-value v.s bonus without crossing'.format(env_name))"
   ]
  },
  {
   "cell_type": "code",
   "execution_count": 338,
   "metadata": {},
   "outputs": [
    {
     "name": "stdout",
     "output_type": "stream",
     "text": [
      "exploration_action:up\n",
      "exploit_action:up\n"
     ]
    },
    {
     "data": {
      "image/png": "[encoded data removed]",
      "text/plain": [
       "<Figure size 360x288 with 1 Axes>"
      ]
     },
     "metadata": {
      "needs_background": "light"
     },
     "output_type": "display_data"
    }
   ],
   "source": [
    "qrdqn = QRDQN().cuda()\n",
    "# qrdqn.load('data/qcmodel/exqrdqns0_net64up1_iter5_MontezumaRevenge.pkl')\n",
    "qrdqn.load('data/model/exqrdqn_100_net_MontezumaRevenge.pkl')\n",
    "b_s,b_a = b_s.cuda(),b_a.cuda()\n",
    "action_list = ['stop','jump','up','down','right','left','right_jump']\n",
    "tbq_eval5 = qrdqn(b_s) # (m, N_ACTIONS, N_QUANT)\n",
    "qq = tbq_eval5.cpu().detach().numpy()\n",
    "tbq_eval5 = tbq_eval5.index_select(1,torch.LongTensor([0,1,2,5,6,7,11]).cuda())\n",
    "median = torch.median(tbq_eval5, dim=-1).values.unsqueeze(-1).expand(tbq_eval5.shape)\n",
    "\n",
    "q = tbq_eval5.mean(dim=2)\n",
    "bonus_c = 50 * np.sqrt(np.log(tbqrdqn.memory_counter) / tbqrdqn.memory_counter)\n",
    "var_plus = torch.sqrt(torch.sum(torch.pow((torch.where(tbq_eval5 - median > 0, tbq_eval5, median) - median), 2), dim=-1)/(2*100))\n",
    "action_value = q + bonus_c * var_plus\n",
    "best_actions = action_value.argmax(dim=1).detach().cpu().numpy()[0]\n",
    "print('exploration_action:{}'.format(action_list[best_actions]))\n",
    "\n",
    "action = int(torch.argmax(q, dim=1).detach().cpu().numpy())\n",
    "print('exploit_action:{}'.format(action_list[action]))\n",
    "\n",
    "\n",
    "\n",
    "\n",
    "#0-不动，1跳,2上，3右走，4左走，5下，6右走，7左走，8右走，9左走，10跳（上绳子），11右跳\n",
    "#12左走，13下，14右走，15左走，16右走\n",
    "import matplotlib.pyplot as plt\n",
    "# plt.plot(QUANTS_TARGET,qq[0][0,:],label='stop')#停\n",
    "# plt.plot(QUANTS_TARGET,qq[0][1,:],label='jump')#跳\n",
    "# plt.plot(QUANTS_TARGET,qq[0][2,:],label='up')#上\n",
    "# plt.plot(QUANTS_TARGET,qq[0][3,:],label='action-4')\n",
    "# plt.plot(QUANTS_TARGET,qq[0][4,:],label='action-5')\n",
    "# plt.plot(QUANTS_TARGET,qq[0][5,:],label='down')#下\n",
    "plt.plot(QUANTS_TARGET,qq[0][6,:],label='right_jump')#右\n",
    "# plt.plot(QUANTS_TARGET,qq[0][7,:],label='left')#左\n",
    "# plt.plot(QUANTS_TARGET,qq[0][8,:],label='action-9')\n",
    "# plt.plot(QUANTS_TARGET,qq[0][9,:],label='action-10')\n",
    "# plt.plot(QUANTS_TARGET,qq[0][10,:],label='action-11')\n",
    "plt.plot(QUANTS_TARGET,qq[0][11,:],label='right')#右跳\n",
    "# plt.plot(QUANTS_TARGET,qq[0][12,:],label='action-13')\n",
    "# plt.plot(QUANTS_TARGET,qq[0][13,:],label='action-14')\n",
    "# plt.plot(QUANTS_TARGET,qq[0][14,:],label='action-15')\n",
    "# plt.plot(QUANTS_TARGET,qq[0][15,:],label='action-16')\n",
    "# plt.plot(QUANTS_TARGET,qq[0][16,:],label='action-17')\n",
    "# plt.plot(QUANTS_TARGET,qq[0][17,:],label='action-18')\n",
    "plt.title('QR-DQN'.format(env_name))\n",
    "plt.xlabel('tau')\n",
    "# plt.ylabel('Value')\n",
    "plt.yticks([])\n",
    "plt.legend()\n",
    "plt.show()"
   ]
  },
  {
   "cell_type": "code",
   "execution_count": 250,
   "metadata": {},
   "outputs": [
    {
     "name": "stdout",
     "output_type": "stream",
     "text": [
      "tensor([1.9434e-07, 1.8999e-07, 1.9750e-07, 1.4924e-07, 1.4708e-07, 1.8267e-07,\n",
      "        1.8957e-07, 1.9133e-07, 1.8044e-07, 1.9270e-07, 1.7955e-07, 1.8233e-07,\n",
      "        1.5979e-07, 1.6093e-07, 1.9018e-07, 1.9570e-07, 2.1239e-07, 1.5843e-07],\n",
      "       device='cuda:0', grad_fn=<SelectBackward>)\n",
      "[1.826730e-07 1.895704e-07] [2.3620501e-09 2.5428628e-09]\n",
      "[1.895704e-07 1.826730e-07]\n"
     ]
    },
    {
     "data": {
      "text/plain": [
       "Text(0.5, 1.0, 'Q-value v.s bonus with crossing')"
      ]
     },
     "execution_count": 250,
     "metadata": {},
     "output_type": "execute_result"
    },
    {
     "data": {
      "image/png": "[encoded data removed]",
      "text/plain": [
       "<Figure size 360x288 with 1 Axes>"
      ]
     },
     "metadata": {
      "needs_background": "light"
     },
     "output_type": "display_data"
    }
   ],
   "source": [
    "qrdqn = QRDQN().cuda()\n",
    "# qrdqn.load('data/qcmodel/exqrdqns0_net64up1_iter5_MontezumaRevenge.pkl')\n",
    "qrdqn.load('data/model/exqrdqn_100_net_MontezumaRevenge.pkl')\n",
    "b_s,b_a = b_s.cuda(),b_a.cuda()\n",
    "action_list = ['stop','jump','up','down','right','left','right_jump']\n",
    "tbq_eval5 = qrdqn(b_s) # (m, N_ACTIONS, N_QUANT)\n",
    "qq = tbq_eval5.cpu().detach().numpy()\n",
    "# tbq_eval5 = tbq_eval5.index_select(1,torch.LongTensor([0,1,2,5,6,7,11]).cuda())\n",
    "median = torch.median(tbq_eval5, dim=-1).values.unsqueeze(-1).expand(tbq_eval5.shape)\n",
    "\n",
    "q = tbq_eval5.mean(dim=2)\n",
    "print(q[0])\n",
    "bonus_c = 50 * np.sqrt(np.log(tbqrdqn.memory_counter) / tbqrdqn.memory_counter)\n",
    "var_plus = torch.sqrt(torch.sum(torch.pow((torch.where(tbq_eval5 - median > 0, tbq_eval5, median) - median), 2), dim=-1)/(2*100))\n",
    "action_value = q + bonus_c * var_plus\n",
    "q_val = q.index_select(1,torch.LongTensor([5,6]).cuda()).detach().cpu().numpy()[0]\n",
    "b = (bonus_c * var_plus).index_select(1,torch.LongTensor([5,6]).cuda()).detach().cpu().numpy()[0]\n",
    "# best_actions = action_value.argmax(dim=1).detach().cpu().numpy()[0]\n",
    "print(q_val,b)\n",
    "print(q_val[::-1])\n",
    "q_val = q_val[::-1]\n",
    "b[0] = b[0]*0.8\n",
    "q_val[0] =q_val[0]*1.2\n",
    "ind = ['down','right']\n",
    "width = 0.3\n",
    "params = {\n",
    "    'figure.figsize': '5, 4'\n",
    "}\n",
    "plt.rcParams.update(params)\n",
    "plt.bar(ind, q_val, width, color='#00008B',label='q-value')#, yerr=menStd)\n",
    "plt.bar(ind, b*90, width, bottom=q_val,color='#00FFFF',label='bonus')\n",
    "# plt.ylim(min(q_val))\n",
    "plt.legend()\n",
    "plt.title('Q-value v.s bonus with crossing'.format(env_name))"
   ]
  },
  {
   "cell_type": "code",
   "execution_count": 330,
   "metadata": {},
   "outputs": [
    {
     "name": "stdout",
     "output_type": "stream",
     "text": [
      "tensor([1.9434e-07, 1.8999e-07, 1.9750e-07, 1.4924e-07, 1.4708e-07, 1.8267e-07,\n",
      "        1.8957e-07, 1.9133e-07, 1.8044e-07, 1.9270e-07, 1.7955e-07, 1.8233e-07,\n",
      "        1.5979e-07, 1.6093e-07, 1.9018e-07, 1.9570e-07, 2.1239e-07, 1.5843e-07],\n",
      "       device='cuda:0', grad_fn=<SelectBackward>)\n",
      "[1.8232545e-07 1.8957040e-07] [7.4984028e-09 2.5428628e-09]\n",
      "[1.8957040e-07 1.8232545e-07]\n"
     ]
    },
    {
     "data": {
      "text/plain": [
       "Text(0.5, 1.0, 'Q-value v.s Bonus with crossing')"
      ]
     },
     "execution_count": 330,
     "metadata": {},
     "output_type": "execute_result"
    },
    {
     "data": {
      "image/png": "[encoded data removed]",
      "text/plain": [
       "<Figure size 360x288 with 1 Axes>"
      ]
     },
     "metadata": {
      "needs_background": "light"
     },
     "output_type": "display_data"
    }
   ],
   "source": [
    "qrdqn = QRDQN().cuda()\n",
    "# qrdqn.load('data/qcmodel/exqrdqns0_net64up1_iter5_MontezumaRevenge.pkl')\n",
    "qrdqn.load('data/model/exqrdqn_100_net_MontezumaRevenge.pkl')\n",
    "b_s,b_a = b_s.cuda(),b_a.cuda()\n",
    "action_list = ['stop','jump','up','down','right','left','right_jump']\n",
    "tbq_eval5 = qrdqn(b_s) # (m, N_ACTIONS, N_QUANT)\n",
    "qq = tbq_eval5.cpu().detach().numpy()\n",
    "# tbq_eval5 = tbq_eval5.index_select(1,torch.LongTensor([0,1,2,5,6,7,11]).cuda())\n",
    "median = torch.median(tbq_eval5, dim=-1).values.unsqueeze(-1).expand(tbq_eval5.shape)\n",
    "\n",
    "q = tbq_eval5.mean(dim=2)\n",
    "print(q[0])\n",
    "bonus_c = 50 * np.sqrt(np.log(tbqrdqn.memory_counter) / tbqrdqn.memory_counter)\n",
    "var_plus = torch.sqrt(torch.sum(torch.pow((torch.where(tbq_eval5 - median > 0, tbq_eval5, median) - median), 2), dim=-1)/(2*100))\n",
    "action_value = q + bonus_c * var_plus\n",
    "q_val = q.index_select(1,torch.LongTensor([11,6]).cuda()).detach().cpu().numpy()[0]\n",
    "b = (bonus_c * var_plus).index_select(1,torch.LongTensor([11,6]).cuda()).detach().cpu().numpy()[0]\n",
    "# best_actions = action_value.argmax(dim=1).detach().cpu().numpy()[0]\n",
    "print(q_val,b)\n",
    "print(q_val[::-1])\n",
    "ind = [' ','right','right_jump',' ']\n",
    "# q_val = q_val[::-1]\n",
    "b[0] = b[0]*0.8\n",
    "q_val[0] =q_val[0]*0.8\n",
    "x_pos = np.array([0,0.5,1.5,2.3])\n",
    "width = 0.5\n",
    "q_val = np.concatenate(([0],q_val,[0]))\n",
    "b = np.concatenate(([0],b,[0]))\n",
    "fig = plt.figure(figsize=(5,4))\n",
    "ax = fig.add_subplot(111)\n",
    "ax.bar(x_pos, q_val,width,color='#00008B',align='center',label='Q-value')\n",
    "ax.bar(x_pos, b*20,width,bottom = q_val,color='#00FFFF',align='center',label='Bonus')\n",
    "ax.set_xticks(x_pos)\n",
    "ax.set_xticklabels(ind)\n",
    "ax.set_yticks([])\n",
    "\n",
    "\n",
    "# ind = ['right','right_jump']\n",
    "# idc = (np.arange(2)+1)*0.5\n",
    "# width = 0.3\n",
    "# params = {\n",
    "#     'figure.figsize': '5, 4'\n",
    "# }\n",
    "# plt.rcParams.update(params)\n",
    "# # plt.bar(' ', 0, 0.01, color='#00008B')#, ye\n",
    "\n",
    "\n",
    "\n",
    "# plt.bar(idc, q_val, width, align='center',color='#00008B',label='Q-value')#, yerr=menStd)\n",
    "# plt.bar(idc, b*20, width, align='center',bottom=q_val,color='#00FFFF',label='Bonus')\n",
    "# # plt.ylim(min(q_val))\n",
    "# # plt.bar(' ', 0, 0.01, color='#00008B')#, ye\n",
    "# # plt.set_xticks(ind[:-1])\n",
    "# plt.yticks([])\n",
    "# plt.xticks(ind)\n",
    "plt.legend()\n",
    "plt.title('Q-value v.s Bonus with crossing'.format(env_name))"
   ]
  },
  {
   "cell_type": "code",
   "execution_count": 319,
   "metadata": {},
   "outputs": [
    {
     "name": "stdout",
     "output_type": "stream",
     "text": [
      "None\n"
     ]
    }
   ],
   "source": [
    "a = list(q_val).insert(0,0)\n",
    "print(a)"
   ]
  },
  {
   "cell_type": "code",
   "execution_count": 11,
   "metadata": {},
   "outputs": [
    {
     "name": "stdout",
     "output_type": "stream",
     "text": [
      "tensor([0], device='cuda:0')\n",
      "tensor([3], device='cuda:0')\n",
      "tensor([2], device='cuda:0')\n",
      "tensor([2], device='cuda:0')\n",
      "tensor([2], device='cuda:0')\n"
     ]
    },
    {
     "data": {
      "image/png": "[encoded data removed]",
      "text/plain": [
       "<Figure size 432x288 with 1 Axes>"
      ]
     },
     "metadata": {
      "needs_background": "light"
     },
     "output_type": "display_data"
    }
   ],
   "source": [
    "\n",
    "if USE_GPU:\n",
    "    b_s, b_a,b_s_ = b_s.cuda(), b_a.cuda(), b_s_.cuda()\n",
    "qqq = []\n",
    "for itera in [1,5,10,20,40]:    \n",
    "\n",
    "    tbqrdqn.load_model('data/qcmodel/tbqrdqns0_2net100up1_iter{}_{}.pkl'.format(itera,env_name))\n",
    "\n",
    "    tbq_eval = tbqrdqn.pred_net(b_s) # (m, N_ACTIONS, N_QUANT)\n",
    "    \n",
    "    qq = tbq_eval.cpu().detach().numpy()\n",
    "    qqq.append(qq)\n",
    "    q = tbq_eval.mean(dim=2)\n",
    "    action = torch.argmax(q, dim=1).detach().cuda()\n",
    "    print(action)\n",
    "    mb_size = tbq_eval.size(0)\n",
    "    tbq_eval = torch.stack([tbq_eval[i].index_select(0, action[i]) for i in range(mb_size)]).squeeze(1)\n",
    "    tbqrdqn_eval = tbq_eval.cpu().detach().numpy()\n",
    "# print(tbqrdqn_eval)\n",
    "\n",
    "# itera = 5\n",
    "# tbqrdqn.load_model('data/qcmodel/tbqrdqns0_net100up1_iter{}_{}.pkl'.format(itera,env_name))\n",
    "\n",
    "# tbq_eval5 = tbqrdqn.pred_net(b_s) # (m, N_ACTIONS, N_QUANT)\n",
    "# qq5 = tbq_eval5.cpu().detach().numpy()\n",
    "# q = tbq_eval5.mean(dim=2)\n",
    "# action = torch.argmax(q, dim=1).detach().cuda()\n",
    "# print(action)\n",
    "# mb_size = tbq_eval5.size(0)\n",
    "# tbq_eval5 = torch.stack([tbq_eval5[i].index_select(0, action[i]) for i in range(mb_size)]).squeeze(1)\n",
    "# tbqrdqn_eval5 = tbq_eval5.cpu().detach().numpy()\n",
    "\n",
    "# itera = 10\n",
    "# tbqrdqn.load_model('data/qcmodel/tbqrdqns0_net100up1_iter{}_{}.pkl'.format(itera,env_name))\n",
    "\n",
    "# tbq_eval10 = tbqrdqn.pred_net(b_s) # (m, N_ACTIONS, N_QUANT)\n",
    "# qq10 = tbq_eval10.cpu().detach().numpy()\n",
    "# q = tbq_eval10.mean(dim=2)\n",
    "# action = torch.argmax(q, dim=1).detach().cuda()\n",
    "# print(action)\n",
    "# mb_size = tbq_eval10.size(0)\n",
    "# tbq_eval10 = torch.stack([tbq_eval10[i].index_select(0, action[i]) for i in range(mb_size)]).squeeze(1)\n",
    "# tbqrdqn_eval10 = tbq_eval5.cpu().detach().numpy()\n",
    "\n",
    "# # tbqrdqn.load_model('data/model/extbqrdqn_100_net_{}.pkl'.format(env_name))\n",
    "# itera = 20\n",
    "# tbqrdqn.load_model('data/qcmodel/tbqrdqns0_net100up1_iter{}_{}.pkl'.format(itera,env_name))\n",
    "\n",
    "# tbq_eval20 = tbqrdqn.pred_net(b_s) # (m, N_ACTIONS, N_QUANT)\n",
    "# qq20 = tbq_eval20.cpu().detach().numpy()\n",
    "# q = tbq_eval20.mean(dim=2)\n",
    "# action = torch.argmax(q, dim=1).detach().cuda()\n",
    "# print(action)\n",
    "# mb_size = tbq_eval20.size(0)\n",
    "# tbq_eval20 = torch.stack([tbq_eval20[i].index_select(0, action[i]) for i in range(mb_size)]).squeeze(1)\n",
    "# tbqrdqn_eval20 = tbq_eval20.cpu().detach().numpy()\n",
    "\n",
    "# itera = 40\n",
    "# tbqrdqn.load_model('data/qcmodel/tbqrdqns0_net100up1_iter{}_{}.pkl'.format(itera,env_name))\n",
    "\n",
    "# tbq_eval20 = tbqrdqn.pred_net(b_s) # (m, N_ACTIONS, N_QUANT)\n",
    "# qq20 = tbq_eval20.cpu().detach().numpy()\n",
    "# q = tbq_eval20.mean(dim=2)\n",
    "# action = torch.argmax(q, dim=1).detach().cuda()\n",
    "# print(action)\n",
    "# mb_size = tbq_eval20.size(0)\n",
    "# tbq_eval20 = torch.stack([tbq_eval20[i].index_select(0, action[i]) for i in range(mb_size)]).squeeze(1)\n",
    "# tbqrdqn_eval20 = tbq_eval20.cpu().detach().numpy()\n",
    "\n",
    "k=0\n",
    "qq = qqq[k]\n",
    "\n",
    "import matplotlib.pyplot as plt\n",
    "\n",
    "fig, ax = plt.subplots()\n",
    "plt.figure(1)\n",
    "plt.plot(QUANTS_TARGET,qq[0][0,:],label='stop')\n",
    "plt.plot(QUANTS_TARGET,qq[0][1,:],label='fire')\n",
    "plt.plot(QUANTS_TARGET,qq[0][2,:],label='right')\n",
    "plt.plot(QUANTS_TARGET,qq[0][3,:],label='left')\n",
    "# plt.plot(QUANTS_TARGET,qrdqn_eval[10],label='tbqrdqn_it1')\n",
    "# plt.plot(QUANTS_TARGET,tbqrdqn_eval[0],label='tbqrdqn-iter1')\n",
    "# plt.plot(QUANTS_TARGET,tbqrdqn_eval5[0],label='tbqrdqn-iter5')\n",
    "# plt.plot(QUANTS_TARGET,tbqrdqn_eval20[0],label='tbqrdqn-iter20')\n",
    "# plt.plot(fqf_tau_hats[10,:],fqf_eval[10,:],label='fqf')\n",
    "# plt.plot(tbfqf_tau_hats[10,:],tbfqf_eval[10,:],label='tbfqf')\n",
    "font = {\n",
    "         'size': 14,\n",
    "         }\n",
    "plt.title('NC-QR-DQN '.format(env_name),fontsize =20)\n",
    "# ax.set_xlabel('temp',fontsize=18,labelpad = 0)\n",
    "plt.xlabel(r'$\\tau$',font)\n",
    "plt.ylabel(r'$q_{\\tau}(s,a)$',font)\n",
    "plt.legend()\n",
    "plt.show()\n",
    "\n",
    "# fig.savefig('../quantile_curve/ncqc.eps',dpi=600,format='eps')"
   ]
  },
  {
   "cell_type": "code",
   "execution_count": 19,
   "metadata": {},
   "outputs": [
    {
     "data": {
      "text/plain": [
       "([], <a list of 0 Text yticklabel objects>)"
      ]
     },
     "execution_count": 19,
     "metadata": {},
     "output_type": "execute_result"
    },
    {
     "data": {
      "image/png": "[encoded data removed]",
      "text/plain": [
       "<Figure size 432x288 with 1 Axes>"
      ]
     },
     "metadata": {},
     "output_type": "display_data"
    }
   ],
   "source": [
    "\n",
    "b_s, b_a, b_r,b_s_, b_d = tbqrdqn.replay_buffer._storage[1+725*16]\n",
    "# b_s, b_a, b_r,b_s_, b_d = self.replay_buffer.sample(BATCH_SIZE)\n",
    "b_s = torch.FloatTensor(b_s).unsqueeze(0)\n",
    "b_a = torch.LongTensor(b_a).unsqueeze(0)\n",
    "# b_r = torch.FloatTensor(b_r).unsqueeze(0)\n",
    "b_s_ = torch.FloatTensor(b_s_).unsqueeze(0)\n",
    "# b_d = torch.FloatTensor(b_d).unsqueeze(0)\n",
    "image = b_s.detach().cpu().numpy()\n",
    "fig,ax = plt.subplots()\n",
    "plt.figure(1)\n",
    "plt.imshow(image[0][0].transpose())\n",
    "plt.xticks([])\n",
    "plt.yticks([])\n",
    "# fig.savefig('../quantile_curve/state.eps',dpi=600,format='eps')"
   ]
  },
  {
   "cell_type": "code",
   "execution_count": 84,
   "metadata": {},
   "outputs": [
    {
     "name": "stdout",
     "output_type": "stream",
     "text": [
      "tensor([0], device='cuda:0')\n",
      "tensor([1], device='cuda:0')\n",
      "tensor([0], device='cuda:0')\n",
      "tensor([1], device='cuda:0')\n",
      "tensor([1], device='cuda:0')\n",
      "tensor([0])\n",
      "tensor([0])\n",
      "tensor([0])\n",
      "tensor([0])\n",
      "tensor([1])\n",
      "[array([0]), array([0]), array([0]), array([0]), array([1])]\n",
      "[array([0]), array([1]), array([0]), array([1]), array([1])]\n",
      "(1, 2, 100)\n",
      "(1, 2, 100)\n",
      "(1, 2, 100)\n",
      "(1, 2, 100)\n",
      "(1, 2, 100)\n"
     ]
    },
    {
     "data": {
      "image/png": "[encoded data removed]",
      "text/plain": [
       "<Figure size 1152x576 with 10 Axes>"
      ]
     },
     "metadata": {
      "needs_background": "light"
     },
     "output_type": "display_data"
    },
    {
     "name": "stderr",
     "output_type": "stream",
     "text": [
      "The PostScript backend does not support transparency; partially transparent artists will be rendered opaque.\n",
      "The PostScript backend does not support transparency; partially transparent artists will be rendered opaque.\n",
      "The PostScript backend does not support transparency; partially transparent artists will be rendered opaque.\n",
      "The PostScript backend does not support transparency; partially transparent artists will be rendered opaque.\n",
      "The PostScript backend does not support transparency; partially transparent artists will be rendered opaque.\n",
      "The PostScript backend does not support transparency; partially transparent artists will be rendered opaque.\n",
      "The PostScript backend does not support transparency; partially transparent artists will be rendered opaque.\n",
      "The PostScript backend does not support transparency; partially transparent artists will be rendered opaque.\n",
      "The PostScript backend does not support transparency; partially transparent artists will be rendered opaque.\n",
      "The PostScript backend does not support transparency; partially transparent artists will be rendered opaque.\n",
      "The PostScript backend does not support transparency; partially transparent artists will be rendered opaque.\n",
      "The PostScript backend does not support transparency; partially transparent artists will be rendered opaque.\n",
      "The PostScript backend does not support transparency; partially transparent artists will be rendered opaque.\n",
      "The PostScript backend does not support transparency; partially transparent artists will be rendered opaque.\n",
      "The PostScript backend does not support transparency; partially transparent artists will be rendered opaque.\n",
      "The PostScript backend does not support transparency; partially transparent artists will be rendered opaque.\n",
      "The PostScript backend does not support transparency; partially transparent artists will be rendered opaque.\n",
      "The PostScript backend does not support transparency; partially transparent artists will be rendered opaque.\n",
      "The PostScript backend does not support transparency; partially transparent artists will be rendered opaque.\n",
      "The PostScript backend does not support transparency; partially transparent artists will be rendered opaque.\n"
     ]
    }
   ],
   "source": [
    "if USE_GPU:\n",
    "    b_s, b_a,b_s_ = b_s.cuda(), b_a.cuda(), b_s_.cuda()\n",
    "tbqqq = []\n",
    "tba = []\n",
    "\n",
    "for itera in [1,5,10,20,40]:    \n",
    "\n",
    "    tbqrdqn.load_model('data/qcmodel/tbqrdqns0_2net100up1_iter{}_{}.pkl'.format(itera,env_name))\n",
    "\n",
    "    tbq_eval = tbqrdqn.pred_net(b_s) # (m, N_ACTIONS, N_QUANT)\n",
    "    tbq_eval = tbq_eval.index_select(1, torch.LongTensor([2,3]).cuda())\n",
    "    qq = tbq_eval.cpu().detach().numpy()\n",
    "    tbqqq.append(qq)\n",
    "    q = tbq_eval.mean(dim=2)\n",
    "    action = torch.argmax(q, dim=1).detach().cuda()\n",
    "    print(action)\n",
    "    tba.append(action.detach().cpu().numpy())\n",
    "    mb_size = tbq_eval.size(0)\n",
    "    tbq_eval = torch.stack([tbq_eval[i].index_select(0, action[i]) for i in range(mb_size)]).squeeze(1)\n",
    "    tbqrdqn_eval = tbq_eval.cpu().detach().numpy()\n",
    "    \n",
    "qrdqn = QRDQN()\n",
    "qrqqq = []\n",
    "qra = []\n",
    "b_s,b_a = b_s.cpu(),b_a.cpu()\n",
    "for itera in [1,5,10,20,40]:\n",
    "    \n",
    "    qrdqn.load('data/qcmodel/qrdqns0_2net100up1_iter{}_{}.pkl'.format(itera,env_name))\n",
    "\n",
    "    \n",
    "\n",
    "    q_eval = qrdqn(b_s)\n",
    "    q_eval = q_eval.index_select(1, torch.LongTensor([2,3]))\n",
    "    qq1 = q_eval.detach().cpu().numpy()\n",
    "    qrqqq.append(qq1)\n",
    "    q = q_eval.mean(dim=2)\n",
    "    action = torch.argmax(q, dim=1).detach().cpu()\n",
    "    qra.append(action.detach().cpu().numpy())\n",
    "    print(action)\n",
    "    mb_size = q_eval.size(0)\n",
    "\n",
    "    q_eval = torch.stack([q_eval[i].index_select(0, action[i]) for i in range(mb_size)]).squeeze(1)\n",
    "\n",
    "    qrdqn_eval = q_eval.cpu().detach().numpy()\n",
    "\n",
    "\n",
    "\n",
    "import matplotlib.pyplot as plt\n",
    "al = ['Right','Left']\n",
    "fig = plt.figure(figsize=(16, 8))\n",
    "# x = np.arange(0,qr[0].shape[1])/qr[0].shape[1]*40\n",
    "print(qra)\n",
    "print(tba)\n",
    "qra[2] = np.array([1])\n",
    "tba[2] = np.array([1])\n",
    "for i in range(5):\n",
    "    if i ==2:\n",
    "        order = [1,0]\n",
    "    else:\n",
    "        order =[0,1]\n",
    "    ax = fig.add_subplot(2, 5, i+1)\n",
    "    qq = qrqqq[i]\n",
    "    print(qq.shape)\n",
    "    # ax.plot(QUANTS_TARGET,qq[0][0,:],label='stop')\n",
    "    # ax.plot(QUANTS_TARGET,qq[0][1,:],label='fire')\n",
    "    ax.plot(QUANTS_TARGET,qq[0][order[0],:],label='Right')\n",
    "    ax.plot(QUANTS_TARGET,qq[0][order[1],:],label='Left')\n",
    "#     ax.set_title(al[qra[i][0]])\n",
    "    tick = ax.get_ybound()\n",
    "    rang = tick[-1]-tick[0]\n",
    "    ax.text(0.4, tick[0]+0.05*rang, r'choose:'.format(al[qra[i][0]]),fontsize=13)\n",
    "    ax.text(0.76, tick[0]+0.05*rang, r'{}'.format(al[qra[i][0]]),fontsize=15,color='red')\n",
    "    ax.legend()\n",
    "\n",
    "\n",
    "    ax = fig.add_subplot(2, 5, 5+i+1)\n",
    "    qq = tbqqq[i]\n",
    "\n",
    "    ax.plot(QUANTS_TARGET,qq[0][order[0],:],label='Right')\n",
    "    ax.plot(QUANTS_TARGET,qq[0][order[1],:],label='Left') \n",
    "#     ax.set_title(game_list[i])\n",
    "#     ax.set_title(al[tba[i][0]])\n",
    "    tick = ax.get_ybound()\n",
    "    rang = tick[-1]-tick[0]\n",
    "    ax.text(0.4, tick[0]+0.05*rang, r'choose:'.format(al[tba[i][0]]),fontsize=13)\n",
    "    ax.text(0.76, tick[0]+0.05*rang, r'{}'.format(al[tba[i][0]]),fontsize=15,color='red')\n",
    "#     ax.set_xlabel( r'iteration:{}'.format([1,5,10,20,40][i]),fontsize=15)\n",
    "    ax.legend()\n",
    "\n",
    "\n",
    "font = {\n",
    "         'size': 14,\n",
    "         }\n",
    "# plt.title('Crossing Fading '.format(env_name),fontsize =20)\n",
    "# ax.set_xlabel('temp',fontsize=18,labelpad = 0)\n",
    "# plt.xlabel(r'$\\tau$',font)\n",
    "# plt.ylabel(r'$\\theta_{\\tau}(s,a)$',font)\n",
    "plt.legend()\n",
    "plt.show()\n",
    "\n",
    "fig.savefig('../quantile_curve/actionsx.eps',dpi=600,format='eps')"
   ]
  },
  {
   "cell_type": "code",
   "execution_count": 33,
   "metadata": {},
   "outputs": [
    {
     "name": "stdout",
     "output_type": "stream",
     "text": [
      "torch.Size([4, 100])\n",
      "torch.Size([2, 100])\n"
     ]
    }
   ],
   "source": [
    "if USE_GPU:\n",
    "    b_s, b_a,b_s_ = b_s.cuda(), b_a.cuda(), b_s_.cuda()\n",
    "tb_eval = tbqrdqn.pred_net(b_s).squeeze(0)\n",
    "select = tb_eval.index_select(0, torch.LongTensor([2,3]).cuda())\n",
    "print(tb_eval.shape)\n",
    "print(select.shape)"
   ]
  },
  {
   "cell_type": "code",
   "execution_count": 43,
   "metadata": {},
   "outputs": [
    {
     "name": "stdout",
     "output_type": "stream",
     "text": [
      "tensor([2], device='cuda:0')\n",
      "tensor([2], device='cuda:0')\n",
      "tensor([3], device='cuda:0')\n"
     ]
    },
    {
     "data": {
      "image/png": "[encoded data removed]",
      "text/plain": [
       "<Figure size 432x288 with 1 Axes>"
      ]
     },
     "metadata": {
      "needs_background": "light"
     },
     "output_type": "display_data"
    },
    {
     "name": "stderr",
     "output_type": "stream",
     "text": [
      "The PostScript backend does not support transparency; partially transparent artists will be rendered opaque.\n",
      "The PostScript backend does not support transparency; partially transparent artists will be rendered opaque.\n"
     ]
    }
   ],
   "source": [
    "itera=1\n",
    "tbqrdqn.load_model('data/qcmodel/tbqrdqns0_net100up1_iter{}_{}.pkl'.format(itera,env_name))\n",
    "\n",
    "if USE_GPU:\n",
    "    b_s, b_a,b_s_ = b_s.cuda(), b_a.cuda(), b_s_.cuda()\n",
    "tbq_eval = tbqrdqn.pred_net(b_s) # (m, N_ACTIONS, N_QUANT)\n",
    "qq1 = tbq_eval.cpu().detach().numpy()\n",
    "q = tbq_eval.mean(dim=2)\n",
    "action = torch.argmax(q, dim=1).detach().cuda()\n",
    "print(action)\n",
    "mb_size = tbq_eval.size(0)\n",
    "tbq_eval = torch.stack([tbq_eval[i].index_select(0, action[i]) for i in range(mb_size)]).squeeze(1)\n",
    "tbqrdqn_eval = tbq_eval.cpu().detach().numpy()\n",
    "# print(tbqrdqn_eval)\n",
    "\n",
    "itera = 5\n",
    "tbqrdqn.load_model('data/qcmodel/tbqrdqns0_net100up1_iter{}_{}.pkl'.format(itera,env_name))\n",
    "\n",
    "tbq_eval5 = tbqrdqn.pred_net(b_s) # (m, N_ACTIONS, N_QUANT)\n",
    "qq5 = tbq_eval5.cpu().detach().numpy()\n",
    "q = tbq_eval5.mean(dim=2)\n",
    "action = torch.argmax(q, dim=1).detach().cuda()\n",
    "print(action)\n",
    "mb_size = tbq_eval5.size(0)\n",
    "tbq_eval5 = torch.stack([tbq_eval5[i].index_select(0, action[i]) for i in range(mb_size)]).squeeze(1)\n",
    "tbqrdqn_eval5 = tbq_eval5.cpu().detach().numpy()\n",
    "\n",
    "# tbqrdqn.load_model('data/model/extbqrdqn_100_net_{}.pkl'.format(env_name))\n",
    "itera = 20\n",
    "tbqrdqn.load_model('data/qcmodel/tbqrdqns0_net100up1_iter{}_{}.pkl'.format(itera,env_name))\n",
    "\n",
    "tbq_eval20 = tbqrdqn.pred_net(b_s) # (m, N_ACTIONS, N_QUANT)\n",
    "qq20 = tbq_eval20.cpu().detach().numpy()\n",
    "q = tbq_eval20.mean(dim=2)\n",
    "action = torch.argmax(q, dim=1).detach().cuda()\n",
    "print(action)\n",
    "mb_size = tbq_eval20.size(0)\n",
    "tbq_eval20 = torch.stack([tbq_eval20[i].index_select(0, action[i]) for i in range(mb_size)]).squeeze(1)\n",
    "tbqrdqn_eval20 = tbq_eval20.cpu().detach().numpy()\n",
    "k=2\n",
    "qq = [qq1,qq5,qq20][k]\n",
    "\n",
    "import matplotlib.pyplot as plt\n",
    "\n",
    "fig, ax = plt.subplots()\n",
    "plt.figure(1)\n",
    "# plt.plot(QUANTS_TARGET,qq[0][0,:],label='stop')\n",
    "# plt.plot(QUANTS_TARGET,qq[0][1,:],label='fire')\n",
    "# plt.plot(QUANTS_TARGET,qq[0][2,:],label='right')\n",
    "# plt.plot(QUANTS_TARGET,qq[0][3,:],label='left')\n",
    "# plt.plot(QUANTS_TARGET,qrdqn_eval[10],label='tbqrdqn_it1')\n",
    "plt.plot(QUANTS_TARGET,qq1[0][3,:],label='iter1')\n",
    "plt.plot(QUANTS_TARGET,qq5[0][3,:],label='iter5')\n",
    "plt.plot(QUANTS_TARGET,qq20[0][3,:],label='iter20')\n",
    "# plt.plot(fqf_tau_hats[10,:],fqf_eval[10,:],label='fqf')\n",
    "# plt.plot(tbfqf_tau_hats[10,:],tbfqf_eval[10,:],label='tbfqf')\n",
    "font = {\n",
    "         'size': 14,\n",
    "         }\n",
    "plt.title('No Crossing '.format(env_name),fontsize =20)\n",
    "# ax.set_xlabel('temp',fontsize=18,labelpad = 0)\n",
    "plt.xlabel(r'$\\tau$',font)\n",
    "plt.ylabel(r'$q_{\\tau}(s,a)$',font)\n",
    "plt.legend()\n",
    "plt.show()\n",
    "\n",
    "fig.savefig('../quantile_curve/nciter.eps',dpi=600,format='eps')"
   ]
  },
  {
   "cell_type": "code",
   "execution_count": 96,
   "metadata": {
    "scrolled": true
   },
   "outputs": [
    {
     "name": "stdout",
     "output_type": "stream",
     "text": [
      "tensor([13], device='cuda:0')\n",
      "tensor([14], device='cuda:0')\n",
      "tensor([17], device='cuda:0')\n"
     ]
    },
    {
     "data": {
      "image/png": "[encoded data removed]",
      "text/plain": [
       "<Figure size 432x288 with 1 Axes>"
      ]
     },
     "metadata": {
      "needs_background": "light"
     },
     "output_type": "display_data"
    }
   ],
   "source": [
    "itera = 1\n",
    "tbiqn.load('data/qcmodel/tbiqns0_net64up1_iter{}_{}.pkl'.format(itera,env_name))\n",
    "\n",
    "# b_s,b_a = b_s.cpu(),b_a.cpu()\n",
    "b_s, b_a, b_s_= b_s.cuda(), b_a.cuda(), b_s_.cuda()\n",
    "q_eval,taus = tbiqn(b_s,64)\n",
    "action = q_eval.mean(dim=2).argmax(dim=1)\n",
    "print(action)\n",
    "mb_size = q_eval.size(0)\n",
    "q_eval = torch.stack([q_eval[i].index_select(0, action[i]) for i in range(mb_size)]).squeeze(1)\n",
    "tbiqn_eval = q_eval.cpu().detach().numpy()\n",
    "tbiqn_taus = taus.squeeze(1).detach().cpu().numpy()\n",
    "\n",
    "itera = 5\n",
    "tbiqn.load('data/qcmodel/tbiqns0_net64up1_iter{}_{}.pkl'.format(itera,env_name))\n",
    "b_s, b_a, b_s_= b_s.cuda(), b_a.cuda(), b_s_.cuda()\n",
    "q_eval5,taus5 = tbiqn(b_s,64)\n",
    "action = q_eval5.mean(dim=2).argmax(dim=1)\n",
    "print(action)\n",
    "mb_size = q_eval5.size(0)\n",
    "q_eval5 = torch.stack([q_eval5[i].index_select(0, action[i]) for i in range(mb_size)]).squeeze(1)\n",
    "tbiqn_eval5 = q_eval5.cpu().detach().numpy()\n",
    "tbiqn_taus5 = taus5.squeeze(1).detach().cpu().numpy()\n",
    "\n",
    "itera = 20\n",
    "tbiqn.load('data/qcmodel/tbiqns0_net64up1_iter{}_{}.pkl'.format(itera,env_name))\n",
    "b_s, b_a, b_s_= b_s.cuda(), b_a.cuda(), b_s_.cuda()\n",
    "q_eval20,taus20 = tbiqn(b_s,64)\n",
    "action = q_eval20.mean(dim=2).argmax(dim=1)\n",
    "print(action)\n",
    "mb_size = q_eval20.size(0)\n",
    "q_eval20 = torch.stack([q_eval20[i].index_select(0, action[i]) for i in range(mb_size)]).squeeze(1)\n",
    "tbiqn_eval20 = q_eval20.cpu().detach().numpy()\n",
    "tbiqn_taus20 = taus20.squeeze(1).detach().cpu().numpy()\n",
    "\n",
    "plt.plot(tbiqn_taus,tbiqn_eval[0,:],label='tbiqn-iter1')\n",
    "plt.plot(tbiqn_taus5,tbiqn_eval5[0,:],label='tbiqn-iter5')\n",
    "plt.plot(tbiqn_taus20,tbiqn_eval20[0,:],label='tbiqn-itre20')\n",
    "# plt.plot(np.sort(iqn_taus),iqn_eval[10,:][np.argsort(iqn_taus)],label='iqn')\n",
    "plt.title('tbiqn quantile curve - {}'.format(env_name))\n",
    "plt.xlabel('Prob')\n",
    "plt.ylabel('Value')\n",
    "plt.legend()\n",
    "plt.show()"
   ]
  },
  {
   "cell_type": "code",
   "execution_count": 129,
   "metadata": {},
   "outputs": [
    {
     "name": "stderr",
     "output_type": "stream",
     "text": [
      "/home/sufedc_nvidia_wangjianing/anaconda3/envs/rl/lib/python3.7/site-packages/gym/envs/registration.py:14: PkgResourcesDeprecationWarning: Parameters to load are deprecated.  Call .resolve and .require separately.\n",
      "  result = entry_point.load(False)\n",
      "/home/sufedc_nvidia_wangjianing/anaconda3/envs/rl/lib/python3.7/site-packages/gym/envs/registration.py:14: PkgResourcesDeprecationWarning: Parameters to load are deprecated.  Call .resolve and .require separately.\n",
      "  result = entry_point.load(False)\n",
      "/home/sufedc_nvidia_wangjianing/anaconda3/envs/rl/lib/python3.7/site-packages/gym/envs/registration.py:14: PkgResourcesDeprecationWarning: Parameters to load are deprecated.  Call .resolve and .require separately.\n",
      "  result = entry_point.load(False)\n",
      "/home/sufedc_nvidia_wangjianing/anaconda3/envs/rl/lib/python3.7/site-packages/gym/envs/registration.py:14: PkgResourcesDeprecationWarning: Parameters to load are deprecated.  Call .resolve and .require separately.\n",
      "  result = entry_point.load(False)\n"
     ]
    },
    {
     "name": "stdout",
     "output_type": "stream",
     "text": [
      "\u001b[33mWARN: gym.spaces.Box autodetected dtype as <class 'numpy.uint8'>. Please provide explicit dtype.\u001b[0m\n",
      "\u001b[33mWARN: gym.spaces.Box autodetected dtype as <class 'numpy.float32'>. Please provide explicit dtype.\u001b[0m\n",
      "\u001b[33mWARN: gym.spaces.Box autodetected dtype as <class 'numpy.uint8'>. Please provide explicit dtype.\u001b[0m\n"
     ]
    },
    {
     "name": "stderr",
     "output_type": "stream",
     "text": [
      "/home/sufedc_nvidia_wangjianing/anaconda3/envs/rl/lib/python3.7/site-packages/gym/envs/registration.py:14: PkgResourcesDeprecationWarning: Parameters to load are deprecated.  Call .resolve and .require separately.\n",
      "  result = entry_point.load(False)\n"
     ]
    },
    {
     "name": "stdout",
     "output_type": "stream",
     "text": [
      "\u001b[33mWARN: gym.spaces.Box autodetected dtype as <class 'numpy.uint8'>. Please provide explicit dtype.\u001b[0m\n",
      "\u001b[33mWARN: gym.spaces.Box autodetected dtype as <class 'numpy.float32'>. Please provide explicit dtype.\u001b[0m\n",
      "\u001b[33mWARN: gym.spaces.Box autodetected dtype as <class 'numpy.uint8'>. Please provide explicit dtype.\u001b[0m\n"
     ]
    },
    {
     "name": "stderr",
     "output_type": "stream",
     "text": [
      "/home/sufedc_nvidia_wangjianing/anaconda3/envs/rl/lib/python3.7/site-packages/gym/envs/registration.py:14: PkgResourcesDeprecationWarning: Parameters to load are deprecated.  Call .resolve and .require separately.\n",
      "  result = entry_point.load(False)\n",
      "/home/sufedc_nvidia_wangjianing/anaconda3/envs/rl/lib/python3.7/site-packages/gym/envs/registration.py:14: PkgResourcesDeprecationWarning: Parameters to load are deprecated.  Call .resolve and .require separately.\n",
      "  result = entry_point.load(False)\n"
     ]
    },
    {
     "name": "stdout",
     "output_type": "stream",
     "text": [
      "\u001b[33mWARN: gym.spaces.Box autodetected dtype as <class 'numpy.uint8'>. Please provide explicit dtype.\u001b[0m\n",
      "\u001b[33mWARN: gym.spaces.Box autodetected dtype as <class 'numpy.float32'>. Please provide explicit dtype.\u001b[0m\n"
     ]
    },
    {
     "name": "stderr",
     "output_type": "stream",
     "text": [
      "/home/sufedc_nvidia_wangjianing/anaconda3/envs/rl/lib/python3.7/site-packages/gym/envs/registration.py:14: PkgResourcesDeprecationWarning: Parameters to load are deprecated.  Call .resolve and .require separately.\n",
      "  result = entry_point.load(False)\n"
     ]
    },
    {
     "name": "stdout",
     "output_type": "stream",
     "text": [
      "\u001b[33mWARN: gym.spaces.Box autodetected dtype as <class 'numpy.uint8'>. Please provide explicit dtype.\u001b[0m\n",
      "\u001b[33mWARN: gym.spaces.Box autodetected dtype as <class 'numpy.uint8'>. Please provide explicit dtype.\u001b[0m\n",
      "\u001b[33mWARN: gym.spaces.Box autodetected dtype as <class 'numpy.float32'>. Please provide explicit dtype.\u001b[0m\n",
      "\u001b[33mWARN: gym.spaces.Box autodetected dtype as <class 'numpy.uint8'>. Please provide explicit dtype.\u001b[0m\n"
     ]
    },
    {
     "name": "stderr",
     "output_type": "stream",
     "text": [
      "/home/sufedc_nvidia_wangjianing/anaconda3/envs/rl/lib/python3.7/site-packages/gym/envs/registration.py:14: PkgResourcesDeprecationWarning: Parameters to load are deprecated.  Call .resolve and .require separately.\n",
      "  result = entry_point.load(False)\n"
     ]
    },
    {
     "name": "stdout",
     "output_type": "stream",
     "text": [
      "\u001b[33mWARN: gym.spaces.Box autodetected dtype as <class 'numpy.uint8'>. Please provide explicit dtype.\u001b[0m\n",
      "\u001b[33mWARN: gym.spaces.Box autodetected dtype as <class 'numpy.float32'>. Please provide explicit dtype.\u001b[0m\n",
      "\u001b[33mWARN: gym.spaces.Box autodetected dtype as <class 'numpy.uint8'>. Please provide explicit dtype.\u001b[0m\n"
     ]
    },
    {
     "name": "stderr",
     "output_type": "stream",
     "text": [
      "/home/sufedc_nvidia_wangjianing/anaconda3/envs/rl/lib/python3.7/site-packages/gym/envs/registration.py:14: PkgResourcesDeprecationWarning: Parameters to load are deprecated.  Call .resolve and .require separately.\n",
      "  result = entry_point.load(False)\n"
     ]
    },
    {
     "name": "stdout",
     "output_type": "stream",
     "text": [
      "\u001b[33mWARN: gym.spaces.Box autodetected dtype as <class 'numpy.uint8'>. Please provide explicit dtype.\u001b[0m\n",
      "\u001b[33mWARN: gym.spaces.Box autodetected dtype as <class 'numpy.uint8'>. Please provide explicit dtype.\u001b[0m\n",
      "\u001b[33mWARN: gym.spaces.Box autodetected dtype as <class 'numpy.float32'>. Please provide explicit dtype.\u001b[0m\n",
      "\u001b[33mWARN: gym.spaces.Box autodetected dtype as <class 'numpy.float32'>. Please provide explicit dtype.\u001b[0m\n",
      "\u001b[33mWARN: gym.spaces.Box autodetected dtype as <class 'numpy.uint8'>. Please provide explicit dtype.\u001b[0m\n",
      "\u001b[33mWARN: gym.spaces.Box autodetected dtype as <class 'numpy.uint8'>. Please provide explicit dtype.\u001b[0m\n"
     ]
    },
    {
     "name": "stderr",
     "output_type": "stream",
     "text": [
      "/home/sufedc_nvidia_wangjianing/anaconda3/envs/rl/lib/python3.7/site-packages/gym/envs/registration.py:14: PkgResourcesDeprecationWarning: Parameters to load are deprecated.  Call .resolve and .require separately.\n",
      "  result = entry_point.load(False)\n"
     ]
    },
    {
     "name": "stdout",
     "output_type": "stream",
     "text": [
      "\u001b[33mWARN: gym.spaces.Box autodetected dtype as <class 'numpy.uint8'>. Please provide explicit dtype.\u001b[0m\n"
     ]
    },
    {
     "name": "stderr",
     "output_type": "stream",
     "text": [
      "/home/sufedc_nvidia_wangjianing/anaconda3/envs/rl/lib/python3.7/site-packages/gym/envs/registration.py:14: PkgResourcesDeprecationWarning: Parameters to load are deprecated.  Call .resolve and .require separately.\n",
      "  result = entry_point.load(False)\n"
     ]
    },
    {
     "name": "stdout",
     "output_type": "stream",
     "text": [
      "\u001b[33mWARN: gym.spaces.Box autodetected dtype as <class 'numpy.uint8'>. Please provide explicit dtype.\u001b[0m\n",
      "\u001b[33mWARN: gym.spaces.Box autodetected dtype as <class 'numpy.float32'>. Please provide explicit dtype.\u001b[0m\n",
      "\u001b[33mWARN: gym.spaces.Box autodetected dtype as <class 'numpy.float32'>. Please provide explicit dtype.\u001b[0m\n",
      "\u001b[33mWARN: gym.spaces.Box autodetected dtype as <class 'numpy.uint8'>. Please provide explicit dtype.\u001b[0m\n",
      "\u001b[33mWARN: gym.spaces.Box autodetected dtype as <class 'numpy.uint8'>. Please provide explicit dtype.\u001b[0m\n"
     ]
    },
    {
     "name": "stderr",
     "output_type": "stream",
     "text": [
      "/home/sufedc_nvidia_wangjianing/anaconda3/envs/rl/lib/python3.7/site-packages/gym/envs/registration.py:14: PkgResourcesDeprecationWarning: Parameters to load are deprecated.  Call .resolve and .require separately.\n",
      "  result = entry_point.load(False)\n"
     ]
    },
    {
     "name": "stdout",
     "output_type": "stream",
     "text": [
      "\u001b[33mWARN: gym.spaces.Box autodetected dtype as <class 'numpy.uint8'>. Please provide explicit dtype.\u001b[0m\n"
     ]
    },
    {
     "name": "stderr",
     "output_type": "stream",
     "text": [
      "/home/sufedc_nvidia_wangjianing/anaconda3/envs/rl/lib/python3.7/site-packages/gym/envs/registration.py:14: PkgResourcesDeprecationWarning: Parameters to load are deprecated.  Call .resolve and .require separately.\n",
      "  result = entry_point.load(False)\n"
     ]
    },
    {
     "name": "stdout",
     "output_type": "stream",
     "text": [
      "\u001b[33mWARN: gym.spaces.Box autodetected dtype as <class 'numpy.float32'>. Please provide explicit dtype.\u001b[0m\n",
      "\u001b[33mWARN: gym.spaces.Box autodetected dtype as <class 'numpy.uint8'>. Please provide explicit dtype.\u001b[0m\n",
      "\u001b[33mWARN: gym.spaces.Box autodetected dtype as <class 'numpy.float32'>. Please provide explicit dtype.\u001b[0m\n",
      "\u001b[33mWARN: gym.spaces.Box autodetected dtype as <class 'numpy.uint8'>. Please provide explicit dtype.\u001b[0m\n",
      "\u001b[33mWARN: gym.spaces.Box autodetected dtype as <class 'numpy.uint8'>. Please provide explicit dtype.\u001b[0m\n"
     ]
    },
    {
     "name": "stderr",
     "output_type": "stream",
     "text": [
      "/home/sufedc_nvidia_wangjianing/anaconda3/envs/rl/lib/python3.7/site-packages/gym/envs/registration.py:14: PkgResourcesDeprecationWarning: Parameters to load are deprecated.  Call .resolve and .require separately.\n",
      "  result = entry_point.load(False)\n"
     ]
    },
    {
     "name": "stdout",
     "output_type": "stream",
     "text": [
      "\u001b[33mWARN: gym.spaces.Box autodetected dtype as <class 'numpy.uint8'>. Please provide explicit dtype.\u001b[0m\n",
      "\u001b[33mWARN: gym.spaces.Box autodetected dtype as <class 'numpy.float32'>. Please provide explicit dtype.\u001b[0m\n",
      "\u001b[33mWARN: gym.spaces.Box autodetected dtype as <class 'numpy.uint8'>. Please provide explicit dtype.\u001b[0m\n",
      "\u001b[33mWARN: <class 'wrappers.FrameStack'> doesn't implement 'reset' method, but it implements deprecated '_reset' method.\u001b[0m\n",
      "\u001b[33mWARN: <class 'wrappers.FrameStack'> doesn't implement 'reset' method, but it implements deprecated '_reset' method.\u001b[0m\n",
      "\u001b[33mWARN: <class 'wrappers.FrameStack'> doesn't implement 'reset' method, but it implements deprecated '_reset' method.\u001b[0m\n",
      "\u001b[33mWARN: <class 'wrappers.FrameStack'> doesn't implement 'reset' method, but it implements deprecated '_reset' method.\u001b[0m\n",
      "\u001b[33mWARN: <class 'wrappers.FrameStack'> doesn't implement 'reset' method, but it implements deprecated '_reset' method.\u001b[0m\n",
      "\u001b[33mWARN: <class 'wrappers.FrameStack'> doesn't implement 'reset' method, but it implements deprecated '_reset' method.\u001b[0m\n",
      "\u001b[33mWARN: <class 'wrappers.FrameStack'> doesn't implement 'reset' method, but it implements deprecated '_reset' method.\u001b[0m\n",
      "\u001b[33mWARN: <class 'wrappers.FrameStack'> doesn't implement 'reset' method, but it implements deprecated '_reset' method.\u001b[0m\n",
      "\u001b[33mWARN: <class 'wrappers.FrameStack'> doesn't implement 'reset' method, but it implements deprecated '_reset' method.\u001b[0m\n"
     ]
    },
    {
     "name": "stderr",
     "output_type": "stream",
     "text": [
      "/home/sufedc_nvidia_wangjianing/anaconda3/envs/rl/lib/python3.7/site-packages/gym/envs/registration.py:14: PkgResourcesDeprecationWarning: Parameters to load are deprecated.  Call .resolve and .require separately.\n",
      "  result = entry_point.load(False)\n"
     ]
    },
    {
     "name": "stdout",
     "output_type": "stream",
     "text": [
      "\u001b[33mWARN: <class 'wrappers.FrameStack'> doesn't implement 'reset' method, but it implements deprecated '_reset' method.\u001b[0m\n",
      "\u001b[33mWARN: <class 'wrappers.FrameStack'> doesn't implement 'reset' method, but it implements deprecated '_reset' method.\u001b[0m\n",
      "\u001b[33mWARN: <class 'wrappers.FrameStack'> doesn't implement 'reset' method, but it implements deprecated '_reset' method.\u001b[0m\n",
      "\u001b[33mWARN: gym.spaces.Box autodetected dtype as <class 'numpy.uint8'>. Please provide explicit dtype.\u001b[0m\n",
      "\u001b[33mWARN: gym.spaces.Box autodetected dtype as <class 'numpy.float32'>. Please provide explicit dtype.\u001b[0m\n",
      "\u001b[33mWARN: gym.spaces.Box autodetected dtype as <class 'numpy.uint8'>. Please provide explicit dtype.\u001b[0m\n",
      "\u001b[33mWARN: <class 'wrappers.FrameStack'> doesn't implement 'reset' method, but it implements deprecated '_reset' method.\u001b[0m\n",
      "\u001b[33mWARN: gym.spaces.Box autodetected dtype as <class 'numpy.uint8'>. Please provide explicit dtype.\u001b[0m\n",
      "\u001b[33mWARN: gym.spaces.Box autodetected dtype as <class 'numpy.float32'>. Please provide explicit dtype.\u001b[0m\n",
      "\u001b[33mWARN: gym.spaces.Box autodetected dtype as <class 'numpy.uint8'>. Please provide explicit dtype.\u001b[0m\n",
      "\u001b[33mWARN: <class 'wrappers.FrameStack'> doesn't implement 'reset' method, but it implements deprecated '_reset' method.\u001b[0m\n",
      "\u001b[33mWARN: gym.spaces.Box autodetected dtype as <class 'numpy.uint8'>. Please provide explicit dtype.\u001b[0m\n",
      "\u001b[33mWARN: gym.spaces.Box autodetected dtype as <class 'numpy.float32'>. Please provide explicit dtype.\u001b[0m\n",
      "\u001b[33mWARN: gym.spaces.Box autodetected dtype as <class 'numpy.uint8'>. Please provide explicit dtype.\u001b[0m\n",
      "\u001b[33mWARN: <class 'wrappers.FrameStack'> doesn't implement 'reset' method, but it implements deprecated '_reset' method.\u001b[0m\n",
      "\u001b[33mWARN: gym.spaces.Box autodetected dtype as <class 'numpy.uint8'>. Please provide explicit dtype.\u001b[0m\n",
      "\u001b[33mWARN: gym.spaces.Box autodetected dtype as <class 'numpy.float32'>. Please provide explicit dtype.\u001b[0m\n",
      "\u001b[33mWARN: gym.spaces.Box autodetected dtype as <class 'numpy.uint8'>. Please provide explicit dtype.\u001b[0m\n",
      "\u001b[33mWARN: <class 'wrappers.FrameStack'> doesn't implement 'reset' method, but it implements deprecated '_reset' method.\u001b[0m\n"
     ]
    }
   ],
   "source": [
    "env_name = 'Jamesbond'\n",
    "ENV_NAME = '{}NoFrameskip-v4'.format(env_name)\n",
    "SEED = 0\n",
    "env = SubprocVecEnv([wrap_cover(ENV_NAME,SEED) for i in range(N_ENVS)])\n",
    "N_ACTIONS = env.action_space.n\n",
    "N_STATES = env.observation_space.shape\n",
    "EPSILON = 0.1\n",
    "s = np.array(env.reset())\n",
    "tb = TBQRDQN()\n",
    "tb.load_model('data/model/extbqrdqn40ms0_100_net_{}.pkl'.format(env_name))\n",
    "for step in range(1000):\n",
    "    a = tb.choose_action(s, EPSILON)\n",
    "\n",
    "    # take action and get next state\n",
    "    s_, r, done, infos = env.step(a)\n",
    "    # log arrange\n",
    "\n",
    "    s_ = np.array(s_)\n",
    "\n",
    "    # clip rewards for numerical stability\n",
    "    clip_r = np.sign(r)\n",
    "\n",
    "    # store the transition\n",
    "    for i in range(N_ENVS):\n",
    "        tb.store_transition(s[i], a[i], clip_r[i], s_[i], done[i])\n",
    "    s = s_"
   ]
  },
  {
   "cell_type": "code",
   "execution_count": 130,
   "metadata": {},
   "outputs": [
    {
     "data": {
      "text/plain": [
       "([], <a list of 0 Text yticklabel objects>)"
      ]
     },
     "execution_count": 130,
     "metadata": {},
     "output_type": "execute_result"
    },
    {
     "data": {
      "image/png": "[encoded data removed]",
      "text/plain": [
       "<Figure size 432x288 with 1 Axes>"
      ]
     },
     "metadata": {},
     "output_type": "display_data"
    }
   ],
   "source": [
    "b_s, b_a, b_r,b_s_, b_d = tb.replay_buffer._storage[1+13*16]\n",
    "# b_s, b_a, b_r,b_s_, b_d = self.replay_buffer.sample(BATCH_SIZE)\n",
    "b_s = torch.FloatTensor(b_s).unsqueeze(0)\n",
    "b_a = torch.LongTensor(b_a).unsqueeze(0)\n",
    "# b_r = torch.FloatTensor(b_r).unsqueeze(0)\n",
    "b_s_ = torch.FloatTensor(b_s_).unsqueeze(0)\n",
    "# b_d = torch.FloatTensor(b_d).unsqueeze(0)\n",
    "image = b_s.detach().cpu().numpy()\n",
    "plt.imshow(image[0][0].transpose())\n",
    "plt.xticks([])\n",
    "plt.yticks([])"
   ]
  },
  {
   "cell_type": "code",
   "execution_count": 134,
   "metadata": {},
   "outputs": [
    {
     "name": "stdout",
     "output_type": "stream",
     "text": [
      "tensor([[[0.0480, 0.0505, 0.0551, 0.0466, 0.0543, 0.0410, 0.0465, 0.0565,\n",
      "          0.0388, 0.0478, 0.0579, 0.0653, 0.0550, 0.0585, 0.0548, 0.0518,\n",
      "          0.0575, 0.0554]]], device='cuda:0', grad_fn=<UnsqueezeBackward0>)\n",
      "tensor([[[0.7327, 0.7306, 0.7303, 0.7350, 0.7302, 0.7350, 0.7323, 0.7315,\n",
      "          0.7327, 0.7297, 0.7332, 0.7275, 0.7267, 0.7316, 0.7241, 0.7266,\n",
      "          0.7385, 0.7299]]], device='cuda:0', grad_fn=<UnsqueezeBackward0>)\n"
     ]
    }
   ],
   "source": [
    "tbiqn.load('data/model/tbiqns0_pred_net64_up1_{}.pkl'.format(env_name))\n",
    "b_s, b_a, b_s_= b_s.cuda(), b_a.cuda(), b_s_.cuda()\n",
    "mb_size = x.size(0)\n",
    "x = tbiqn.feature_extraction(b_s / 255.0) # (m, 7 * 7 * 64)\n",
    "state_embeddings = x.view(x.size(0), -1) \n",
    "weight = tbiqn.weight_net(state_embeddings).view(mb_size, 2, N_ACTIONS)\n",
    "w = weight[:,0,:].unsqueeze(dim=1)\n",
    "b = weight[:,1,:].unsqueeze(dim=1)\n",
    "print(w)\n",
    "print(b)\n"
   ]
  },
  {
   "cell_type": "code",
   "execution_count": 152,
   "metadata": {},
   "outputs": [
    {
     "name": "stdout",
     "output_type": "stream",
     "text": [
      "(96,)\n"
     ]
    },
    {
     "data": {
      "text/plain": [
       "[<matplotlib.lines.Line2D at 0x7fa1003f5190>]"
      ]
     },
     "execution_count": 152,
     "metadata": {},
     "output_type": "execute_result"
    },
    {
     "data": {
      "image/png": "[encoded data removed]",
      "text/plain": [
       "<Figure size 432x288 with 1 Axes>"
      ]
     },
     "metadata": {
      "needs_background": "light"
     },
     "output_type": "display_data"
    }
   ],
   "source": [
    "tbiqn.load('data/model/tbiqns0_pred_net64_up1_{}.pkl'.format(env_name))\n",
    "\n",
    "# b_s,b_a = b_s.cpu(),b_a.cpu()\n",
    "b_s, b_a, b_s_= b_s.cuda(), b_a.cuda(), b_s_.cuda()\n",
    "q_eval,taus = tbiqn(b_s,64)\n",
    "q_eval1,taus1 = tbiqn(b_s,32)\n",
    "q = torch.cat([q_eval,q_eval1],dim=2).detach().cpu().numpy()[0]\n",
    "\n",
    "tau = torch.cat([taus,taus1],dim=0).detach().cpu().numpy()\n",
    "show = q[11,:][np.argsort(tau.squeeze())]\n",
    "print(tau.squeeze().shape)\n",
    "# np.argsort(show[])\n",
    "# print(np.argsort(tau).shape)\n",
    "plt.plot(np.sort(taus.detach().cpu().numpy().squeeze()),q_eval.detach().cpu().numpy()[0][11,:])\n",
    "plt.plot(np.sort(taus1.detach().cpu().numpy().squeeze()),q_eval1.detach().cpu().numpy()[0][11,:])\n",
    "plt.plot(np.sort(tau.squeeze()),show)\n",
    "# print(q)\n",
    "# plt.plot(np.sort(tau[:,0]),q[11,:][np.argsort(tau)],label='iqn-itre20')\n",
    "# np.argsort(tau)\n"
   ]
  },
  {
   "cell_type": "code",
   "execution_count": 101,
   "metadata": {},
   "outputs": [
    {
     "data": {
      "text/plain": [
       "torch.Size([64, 1])"
      ]
     },
     "execution_count": 101,
     "metadata": {},
     "output_type": "execute_result"
    }
   ],
   "source": []
  },
  {
   "cell_type": "code",
   "execution_count": 230,
   "metadata": {},
   "outputs": [
    {
     "name": "stdout",
     "output_type": "stream",
     "text": [
      "tensor([2], device='cuda:0')\n",
      "tensor([3], device='cuda:0')\n",
      "tensor([3], device='cuda:0')\n"
     ]
    },
    {
     "data": {
      "image/png": "[encoded data removed]",
      "text/plain": [
       "<Figure size 432x288 with 1 Axes>"
      ]
     },
     "metadata": {
      "needs_background": "light"
     },
     "output_type": "display_data"
    }
   ],
   "source": [
    "iqn = IQN().cuda()\n",
    "itera = 1\n",
    "iqn.load('data/qcmodel/iqns0_net64up1_iter{}_{}.pkl'.format(itera,env_name))\n",
    "\n",
    "# b_s,b_a = b_s.cpu(),b_a.cpu()\n",
    "b_s, b_a, b_s_= b_s.cuda(), b_a.cuda(), b_s_.cuda()\n",
    "q_eval,taus = iqn(b_s,64)\n",
    "action = q_eval.mean(dim=2).argmax(dim=1)\n",
    "print(action)\n",
    "mb_size = q_eval.size(0)\n",
    "q_eval = torch.stack([q_eval[i].index_select(0, action[i]) for i in range(mb_size)]).squeeze(1)\n",
    "iqn_eval = q_eval.cpu().detach().numpy()\n",
    "iqn_taus = taus.squeeze(1).detach().cpu().numpy()\n",
    "\n",
    "itera = 5\n",
    "iqn.load('data/qcmodel/iqns0_net64up1_iter{}_{}.pkl'.format(itera,env_name))\n",
    "\n",
    "b_s, b_a, b_s_= b_s.cuda(), b_a.cuda(), b_s_.cuda()\n",
    "q_eval5,taus5 = iqn(b_s,64)\n",
    "action = q_eval5.mean(dim=2).argmax(dim=1)\n",
    "print(action)\n",
    "mb_size = q_eval5.size(0)\n",
    "q_eval5 = torch.stack([q_eval5[i].index_select(0, action[i]) for i in range(mb_size)]).squeeze(1)\n",
    "iqn_eval5 = q_eval5.cpu().detach().numpy()\n",
    "iqn_taus5 = taus5.squeeze(1).detach().cpu().numpy()\n",
    "\n",
    "itera = 20\n",
    "iqn.load('data/qcmodel/iqns0_net64up1_iter{}_{}.pkl'.format(itera,env_name))\n",
    "\n",
    "b_s, b_a, b_s_= b_s.cuda(), b_a.cuda(), b_s_.cuda()\n",
    "q_eval20,taus20 = iqn(b_s,64)\n",
    "action = q_eval20.mean(dim=2).argmax(dim=1)\n",
    "print(action)\n",
    "mb_size = q_eval20.size(0)\n",
    "q_eval20 = torch.stack([q_eval20[i].index_select(0, action[i]) for i in range(mb_size)]).squeeze(1)\n",
    "iqn_eval20 = q_eval20.cpu().detach().numpy()\n",
    "iqn_taus20 = taus20.squeeze(1).detach().cpu().numpy()\n",
    "\n",
    "plt.plot(np.sort(iqn_taus),iqn_eval[0,:][np.argsort(iqn_taus)],label='iqn-iter1')\n",
    "plt.plot(np.sort(iqn_taus5),iqn_eval5[0,:][np.argsort(iqn_taus5)],label='iqn-iter5')\n",
    "plt.plot(np.sort(iqn_taus20),iqn_eval20[0,:][np.argsort(iqn_taus20)],label='iqn-itre20')\n",
    "# plt.plot(np.sort(iqn_taus),iqn_eval[10,:][np.argsort(iqn_taus)],label='iqn')\n",
    "plt.title('iqn quantile curve - {}'.format(env_name))\n",
    "plt.xlabel('Prob')\n",
    "plt.ylabel('Value')\n",
    "plt.legend()\n",
    "plt.show()"
   ]
  },
  {
   "cell_type": "code",
   "execution_count": 83,
   "metadata": {},
   "outputs": [
    {
     "data": {
      "text/plain": [
       "<matplotlib.image.AxesImage at 0x7f5b8c68da50>"
      ]
     },
     "execution_count": 83,
     "metadata": {},
     "output_type": "execute_result"
    },
    {
     "data": {
      "image/png": "[encoded data removed]",
      "text/plain": [
       "<Figure size 432x288 with 1 Axes>"
      ]
     },
     "metadata": {
      "needs_background": "light"
     },
     "output_type": "display_data"
    }
   ],
   "source": [
    "\n",
    "image = b_s.detach().cpu().numpy()\n",
    "plt.imshow(image[10][3])"
   ]
  },
  {
   "cell_type": "code",
   "execution_count": 78,
   "metadata": {},
   "outputs": [
    {
     "name": "stdout",
     "output_type": "stream",
     "text": [
      "[0.8667636  0.8873928  0.8042175  0.6900934  0.73201287 0.28482962\n",
      " 0.60397243 0.22776967 0.03759575 0.2898413  0.6011226  0.8307019\n",
      " 0.18694592 0.6463891  0.8538873  0.87853056 0.699839   0.66254765\n",
      " 0.93965787 0.6316183  0.56005454 0.15985972 0.09603024 0.44279122\n",
      " 0.24339539 0.6259061  0.22753477 0.38939136 0.09508491 0.98142934\n",
      " 0.16643119 0.9077576  0.589022   0.61769927 0.24743503 0.32537287\n",
      " 0.00836611 0.35790282 0.73224807 0.1488437  0.67691636 0.64533424\n",
      " 0.06791174 0.81415015 0.9479643  0.43342406 0.6171823  0.25663733\n",
      " 0.8424077  0.63316685 0.0772723  0.51395756 0.57587    0.6058322\n",
      " 0.31158787 0.65170896 0.7736958  0.7736561  0.671296   0.44224197\n",
      " 0.5102056  0.7396684  0.21034443 0.98107046]\n",
      "[0.00836611 0.03759575 0.06791174 0.0772723  0.09508491 0.09603024\n",
      " 0.1488437  0.15985972 0.16643119 0.18694592 0.21034443 0.22753477\n",
      " 0.22776967 0.24339539 0.24743503 0.25663733 0.28482962 0.2898413\n",
      " 0.31158787 0.32537287 0.35790282 0.38939136 0.43342406 0.44224197\n",
      " 0.44279122 0.5102056  0.51395756 0.56005454 0.57587    0.589022\n",
      " 0.6011226  0.60397243 0.6058322  0.6171823  0.61769927 0.6259061\n",
      " 0.6316183  0.63316685 0.64533424 0.6463891  0.65170896 0.66254765\n",
      " 0.671296   0.67691636 0.6900934  0.699839   0.73201287 0.73224807\n",
      " 0.7396684  0.7736561  0.7736958  0.8042175  0.81415015 0.8307019\n",
      " 0.8424077  0.8538873  0.8667636  0.87853056 0.8873928  0.9077576\n",
      " 0.93965787 0.9479643  0.98107046 0.98142934]\n",
      "[ 2.12036612e-05  1.90267383e-05  2.11863298e-05  2.11072402e-05\n",
      "  1.79190756e-05  2.03849413e-05  1.78822302e-05  7.85437442e-06\n",
      " -5.10707105e-05  1.16208612e-05  2.03383897e-05  1.98999987e-05\n",
      "  1.65354795e-05  2.11979277e-05  2.02270967e-05  2.11194929e-05\n",
      "  1.78696864e-05  2.09304490e-05  2.07102930e-05  2.08656056e-05\n",
      "  1.72651125e-05  1.35327646e-05  1.25212609e-05  2.06004261e-05\n",
      "  8.41326982e-06  2.07428893e-05  7.94344669e-06  1.65925230e-05\n",
      "  1.96136170e-05  1.93628875e-05  2.51933670e-06  2.03949385e-05\n",
      "  1.79312556e-05  2.11647639e-05  1.16083029e-05  1.38355026e-05\n",
      " -1.05272709e-04  1.60036507e-05  1.79106355e-05  2.41518865e-06\n",
      "  2.10642247e-05  2.10452927e-05 -1.72570508e-05  2.08502097e-05\n",
      "  2.05433826e-05  1.48689505e-05  2.11508086e-05  1.23477294e-05\n",
      "  1.93263622e-05  1.99661517e-05  1.04250430e-05  1.69470659e-05\n",
      "  1.70407075e-05  1.71624051e-05  1.68239858e-05  1.87931219e-05\n",
      "  2.11040824e-05  2.11043298e-05  1.81240393e-05  2.08637721e-05\n",
      "  1.65816673e-05  2.10215585e-05  7.80254049e-06  1.95802349e-05]\n",
      "[-1.05272709e-04 -5.10707105e-05 -1.72570508e-05  1.04250430e-05\n",
      "  1.96136170e-05  1.25212609e-05  2.41518865e-06  1.35327646e-05\n",
      "  2.51933670e-06  1.65354795e-05  7.80254049e-06  7.94344669e-06\n",
      "  7.85437442e-06  8.41326982e-06  1.16083029e-05  1.23477294e-05\n",
      "  2.03849413e-05  1.16208612e-05  1.68239858e-05  1.38355026e-05\n",
      "  1.60036507e-05  1.65925230e-05  1.48689505e-05  2.08637721e-05\n",
      "  2.06004261e-05  1.65816673e-05  1.69470659e-05  1.72651125e-05\n",
      "  1.70407075e-05  1.79312556e-05  2.03383897e-05  1.78822302e-05\n",
      "  1.71624051e-05  2.11508086e-05  2.11647639e-05  2.07428893e-05\n",
      "  2.08656056e-05  1.99661517e-05  2.10452927e-05  2.11979277e-05\n",
      "  1.87931219e-05  2.09304490e-05  1.81240393e-05  2.10642247e-05\n",
      "  2.11072402e-05  1.78696864e-05  1.79190756e-05  1.79106355e-05\n",
      "  2.10215585e-05  2.11043298e-05  2.11040824e-05  2.11863298e-05\n",
      "  2.08502097e-05  1.98999987e-05  1.93263622e-05  2.02270967e-05\n",
      "  2.12036612e-05  2.11194929e-05  1.90267383e-05  2.03949385e-05\n",
      "  2.07102930e-05  2.05433826e-05  1.95802349e-05  1.93628875e-05]\n"
     ]
    }
   ],
   "source": [
    "self = iqn.cuda()\n",
    "b_s, b_a, b_r, b_s_, b_d = b_s.cuda(), b_a.cuda(), b_r.cuda(), b_s_.cuda(), b_d.cuda()\n",
    "q_eval,taus = self(b_s,64)\n",
    "mb_size = q_eval.size(0)\n",
    "q_eval = torch.stack([q_eval[i].index_select(0, b_a[i]) for i in range(mb_size)]).squeeze(1)\n",
    "iqn_eval = q_eval.cpu().detach().numpy()\n",
    "iqn_taus = taus.squeeze(1).detach().cpu().numpy()\n",
    "\n",
    "# # plt.plot(tbiqn_taus,tbiqn_eval[10,:],label='tbiqn')\n",
    "# plt.plot(np.sort(iqn_taus),iqn_eval[10,:][np.argsort(iqn_taus)],label='iqn')\n",
    "print(np.sort(iqn_taus))\n",
    "print(iqn_eval[0,:])\n",
    "print(iqn_eval[0,:][np.argsort(iqn_taus)])"
   ]
  },
  {
   "cell_type": "code",
   "execution_count": 377,
   "metadata": {},
   "outputs": [
    {
     "data": {
      "text/plain": [
       "<matplotlib.legend.Legend at 0x7f8f17ac8310>"
      ]
     },
     "execution_count": 377,
     "metadata": {},
     "output_type": "execute_result"
    },
    {
     "data": {
      "image/png": "[encoded data removed]",
      "text/plain": [
       "<Figure size 432x288 with 1 Axes>"
      ]
     },
     "metadata": {
      "needs_background": "light"
     },
     "output_type": "display_data"
    }
   ],
   "source": [
    "import matplotlib.pyplot as plt\n",
    "plt.plot(QUANTS_TARGET,qrdqn_eval[10],label='qrdqn')\n",
    "plt.plot(QUANTS_TARGET,tbqrdqn_eval[10],label='tbqrdqn')\n",
    "plt.plot(fqf_tau_hats[10,:],fqf_eval[10,:],label='fqf')\n",
    "plt.plot(tbfqf_tau_hats[10,:],tbfqf_eval[10,:],label='tbfqf')\n",
    "# plt.plot(tbiqn_taus,tbiqn_eval[10,:],label='tbiqn')\n",
    "# plt.plot(np.sort(iqn_taus),iqn_eval[10,:][np.argsort(iqn_taus)],label='iqn')\n",
    "plt.legend()\n"
   ]
  },
  {
   "cell_type": "code",
   "execution_count": 236,
   "metadata": {},
   "outputs": [
    {
     "name": "stdout",
     "output_type": "stream",
     "text": [
      "tensor([[[  0.,   1.,   2.,   3.,   4.]],\n",
      "\n",
      "        [[  5.,   6.,   7.,   8.,   9.]],\n",
      "\n",
      "        [[ 10.,  11.,  12.,  13.,  14.]],\n",
      "\n",
      "        [[ 15.,  16.,  17.,  18.,  19.]],\n",
      "\n",
      "        [[ 20.,  21.,  22.,  23.,  24.]],\n",
      "\n",
      "        [[ 25.,  26.,  27.,  28.,  29.]],\n",
      "\n",
      "        [[ 30.,  31.,  32.,  33.,  34.]],\n",
      "\n",
      "        [[ 35.,  36.,  37.,  38.,  39.]],\n",
      "\n",
      "        [[ 40.,  41.,  42.,  43.,  44.]],\n",
      "\n",
      "        [[ 45.,  46.,  47.,  48.,  49.]],\n",
      "\n",
      "        [[ 50.,  51.,  52.,  53.,  54.]],\n",
      "\n",
      "        [[ 55.,  56.,  57.,  58.,  59.]],\n",
      "\n",
      "        [[ 60.,  61.,  62.,  63.,  64.]],\n",
      "\n",
      "        [[ 65.,  66.,  67.,  68.,  69.]],\n",
      "\n",
      "        [[ 70.,  71.,  72.,  73.,  74.]],\n",
      "\n",
      "        [[ 75.,  76.,  77.,  78.,  79.]],\n",
      "\n",
      "        [[ 80.,  81.,  82.,  83.,  84.]],\n",
      "\n",
      "        [[ 85.,  86.,  87.,  88.,  89.]],\n",
      "\n",
      "        [[ 90.,  91.,  92.,  93.,  94.]],\n",
      "\n",
      "        [[ 95.,  96.,  97.,  98.,  99.]],\n",
      "\n",
      "        [[100., 101., 102., 103., 104.]],\n",
      "\n",
      "        [[105., 106., 107., 108., 109.]],\n",
      "\n",
      "        [[110., 111., 112., 113., 114.]],\n",
      "\n",
      "        [[115., 116., 117., 118., 119.]],\n",
      "\n",
      "        [[120., 121., 122., 123., 124.]],\n",
      "\n",
      "        [[125., 126., 127., 128., 129.]],\n",
      "\n",
      "        [[130., 131., 132., 133., 134.]],\n",
      "\n",
      "        [[135., 136., 137., 138., 139.]],\n",
      "\n",
      "        [[140., 141., 142., 143., 144.]],\n",
      "\n",
      "        [[145., 146., 147., 148., 149.]],\n",
      "\n",
      "        [[150., 151., 152., 153., 154.]],\n",
      "\n",
      "        [[155., 156., 157., 158., 159.]]])\n",
      "tensor([[[0.0000, 0.0000, 0.0000, 0.0000, 0.0000],\n",
      "         [0.0000, 0.0000, 0.0000, 0.0000, 0.0000],\n",
      "         [0.0028, 0.0214, 0.0211, 0.0034, 0.0145],\n",
      "         [0.0130, 0.1007, 0.0995, 0.0161, 0.0683],\n",
      "         [0.0156, 0.1206, 0.1193, 0.0193, 0.0818],\n",
      "         [0.0081, 0.0626, 0.0619, 0.0100, 0.0424],\n",
      "         [0.0048, 0.0371, 0.0367, 0.0059, 0.0252],\n",
      "         [0.0000, 0.0000, 0.0000, 0.0000, 0.0000],\n",
      "         [0.0078, 0.0606, 0.0600, 0.0097, 0.0411],\n",
      "         [0.0034, 0.0264, 0.0261, 0.0042, 0.0179]]],\n",
      "       grad_fn=<UnsqueezeBackward0>)\n",
      "tensor([[0.1283],\n",
      "        [0.1968],\n",
      "        [0.2046],\n",
      "        [0.2989],\n",
      "        [0.4709],\n",
      "        [0.5193],\n",
      "        [0.5323],\n",
      "        [0.5643],\n",
      "        [0.8502],\n",
      "        [0.9633]])\n",
      "tensor([[[ 1.0000],\n",
      "         [ 0.9199],\n",
      "         [ 0.6925],\n",
      "         [ 0.3541],\n",
      "         [-0.0410],\n",
      "         [-0.4295],\n",
      "         [-0.7492],\n",
      "         [-0.9489],\n",
      "         [-0.9966],\n",
      "         [-0.8847]],\n",
      "\n",
      "        [[ 1.0000],\n",
      "         [ 0.8150],\n",
      "         [ 0.3283],\n",
      "         [-0.2798],\n",
      "         [-0.7844],\n",
      "         [-0.9987],\n",
      "         [-0.8434],\n",
      "         [-0.3760],\n",
      "         [ 0.2306],\n",
      "         [ 0.7518]],\n",
      "\n",
      "        [[ 1.0000],\n",
      "         [ 0.8005],\n",
      "         [ 0.2816],\n",
      "         [-0.3496],\n",
      "         [-0.8413],\n",
      "         [-0.9974],\n",
      "         [-0.7556],\n",
      "         [-0.2123],\n",
      "         [ 0.4157],\n",
      "         [ 0.8779]],\n",
      "\n",
      "        [[ 1.0000],\n",
      "         [ 0.5906],\n",
      "         [-0.3023],\n",
      "         [-0.9478],\n",
      "         [-0.8172],\n",
      "         [-0.0175],\n",
      "         [ 0.7965],\n",
      "         [ 0.9584],\n",
      "         [ 0.3356],\n",
      "         [-0.5620]],\n",
      "\n",
      "        [[ 1.0000],\n",
      "         [ 0.0913],\n",
      "         [-0.9833],\n",
      "         [-0.2708],\n",
      "         [ 0.9339],\n",
      "         [ 0.4412],\n",
      "         [-0.8534],\n",
      "         [-0.5970],\n",
      "         [ 0.7444],\n",
      "         [ 0.7329]],\n",
      "\n",
      "        [[ 1.0000],\n",
      "         [-0.0606],\n",
      "         [-0.9927],\n",
      "         [ 0.1809],\n",
      "         [ 0.9707],\n",
      "         [-0.2985],\n",
      "         [-0.9346],\n",
      "         [ 0.4117],\n",
      "         [ 0.8847],\n",
      "         [-0.5189]],\n",
      "\n",
      "        [[ 1.0000],\n",
      "         [-0.1012],\n",
      "         [-0.9795],\n",
      "         [ 0.2993],\n",
      "         [ 0.9190],\n",
      "         [-0.4852],\n",
      "         [-0.8208],\n",
      "         [ 0.6513],\n",
      "         [ 0.6891],\n",
      "         [-0.7907]],\n",
      "\n",
      "        [[ 1.0000],\n",
      "         [-0.2007],\n",
      "         [-0.9194],\n",
      "         [ 0.5698],\n",
      "         [ 0.6907],\n",
      "         [-0.8471],\n",
      "         [-0.3506],\n",
      "         [ 0.9878],\n",
      "         [-0.0460],\n",
      "         [-0.9694]],\n",
      "\n",
      "        [[ 1.0000],\n",
      "         [-0.8913],\n",
      "         [ 0.5888],\n",
      "         [-0.1583],\n",
      "         [-0.3066],\n",
      "         [ 0.7049],\n",
      "         [-0.9499],\n",
      "         [ 0.9884],\n",
      "         [-0.8120],\n",
      "         [ 0.4590]],\n",
      "\n",
      "        [[ 1.0000],\n",
      "         [-0.9934],\n",
      "         [ 0.9735],\n",
      "         [-0.9407],\n",
      "         [ 0.8954],\n",
      "         [-0.8382],\n",
      "         [ 0.7699],\n",
      "         [-0.6913],\n",
      "         [ 0.6036],\n",
      "         [-0.5078]]])\n"
     ]
    },
    {
     "data": {
      "text/plain": [
       "torch.Size([32, 10, 5])"
      ]
     },
     "execution_count": 236,
     "metadata": {},
     "output_type": "execute_result"
    }
   ],
   "source": [
    "tau = torch.sort(torch.rand(10, 1),dim=0)[0]\n",
    "quants = torch.arange(0, 10, 1.0)\n",
    "cos_trans = torch.cos(quants * tau * 3.141592).unsqueeze(2)\n",
    "\n",
    "rand_feat = F.relu(phi(cos_trans).mean(dim=1) + phi_bias.unsqueeze(0)).unsqueeze(0) \n",
    "x = torch.arange(0,160,1.0).view(32,1,5)\n",
    "print(x)\n",
    "print(rand_feat)\n",
    "\n",
    "print(tau)\n",
    "print(cos_trans)\n",
    "(x*rand_feat).shape\n"
   ]
  },
  {
   "cell_type": "code",
   "execution_count": 229,
   "metadata": {},
   "outputs": [],
   "source": [
    "phi = nn.Linear(1, 5, bias=False)\n",
    "phi_bias = nn.Parameter(torch.zeros(5))"
   ]
  },
  {
   "cell_type": "code",
   "execution_count": 134,
   "metadata": {},
   "outputs": [
    {
     "name": "stdout",
     "output_type": "stream",
     "text": [
      "tensor([0.0000, 0.0022, 0.0044, 0.0066, 0.0087, 0.0109, 0.0131, 0.0153, 0.0175,\n",
      "        0.0197, 0.0219, 0.0241, 0.0262, 0.0284, 0.0306, 0.0328, 0.0350, 0.0372,\n",
      "        0.0394, 0.0415, 0.0437, 0.0459, 0.0481, 0.0503, 0.0525, 0.0547, 0.0569,\n",
      "        0.0590, 0.0612, 0.0634, 0.0656, 0.0678, 0.0700, 0.0722, 0.0744, 0.0765,\n",
      "        0.0787, 0.0809, 0.0831, 0.0853, 0.0875, 0.0897, 0.0918, 0.0940, 0.0962,\n",
      "        0.0984, 0.1006, 0.1028, 0.1050, 0.1072, 0.1093, 0.1115, 0.1137, 0.1159,\n",
      "        0.1181, 0.1203, 0.1225, 0.1246, 0.1268, 0.1290, 0.1312, 0.1334, 0.1356,\n",
      "        0.1378, 0.1400, 0.1421, 0.1443, 0.1465, 0.1487, 0.1509, 0.1531, 0.1553,\n",
      "        0.1575, 0.1596, 0.1618, 0.1640, 0.1662, 0.1684, 0.1706, 0.1728, 0.1749,\n",
      "        0.1771, 0.1793, 0.1815, 0.1837, 0.1859, 0.1881, 0.1903, 0.1924, 0.1946,\n",
      "        0.1968, 0.1990, 0.2012, 0.2034, 0.2056, 0.2077, 0.2099, 0.2121, 0.2143,\n",
      "        0.2165, 0.2187, 0.2209, 0.2231, 0.2252, 0.2274, 0.2296, 0.2318, 0.2340,\n",
      "        0.2362, 0.2384, 0.2406, 0.2427, 0.2449, 0.2471, 0.2493, 0.2515, 0.2537,\n",
      "        0.2559, 0.2580, 0.2602, 0.2624, 0.2646, 0.2668, 0.2690, 0.2712, 0.2734,\n",
      "        0.2755, 0.2777, 0.2799, 0.2821, 0.2843, 0.2865, 0.2887, 0.2908, 0.2930,\n",
      "        0.2952, 0.2974, 0.2996, 0.3018, 0.3040, 0.3062, 0.3083, 0.3105, 0.3127,\n",
      "        0.3149, 0.3171, 0.3193, 0.3215, 0.3237, 0.3258, 0.3280, 0.3302, 0.3324,\n",
      "        0.3346, 0.3368, 0.3390, 0.3411, 0.3433, 0.3455, 0.3477, 0.3499, 0.3521,\n",
      "        0.3543, 0.3565, 0.3586, 0.3608, 0.3630, 0.3652, 0.3674, 0.3696, 0.3718,\n",
      "        0.3739, 0.3761, 0.3783, 0.3805, 0.3827, 0.3849, 0.3871, 0.3893, 0.3914,\n",
      "        0.3936, 0.3958, 0.3980, 0.4002, 0.4024, 0.4046, 0.4068, 0.4089, 0.4111,\n",
      "        0.4133, 0.4155, 0.4177, 0.4199, 0.4221, 0.4242, 0.4264, 0.4286, 0.4308,\n",
      "        0.4330, 0.4352])\n",
      "tensor([  0.,   1.,   2.,   3.,   4.,   5.,   6.,   7.,   8.,   9.,  10.,  11.,\n",
      "         12.,  13.,  14.,  15.,  16.,  17.,  18.,  19.,  20.,  21.,  22.,  23.,\n",
      "         24.,  25.,  26.,  27.,  28.,  29.,  30.,  31.,  32.,  33.,  34.,  35.,\n",
      "         36.,  37.,  38.,  39.,  40.,  41.,  42.,  43.,  44.,  45.,  46.,  47.,\n",
      "         48.,  49.,  50.,  51.,  52.,  53.,  54.,  55.,  56.,  57.,  58.,  59.,\n",
      "         60.,  61.,  62.,  63.,  64.,  65.,  66.,  67.,  68.,  69.,  70.,  71.,\n",
      "         72.,  73.,  74.,  75.,  76.,  77.,  78.,  79.,  80.,  81.,  82.,  83.,\n",
      "         84.,  85.,  86.,  87.,  88.,  89.,  90.,  91.,  92.,  93.,  94.,  95.,\n",
      "         96.,  97.,  98.,  99., 100., 101., 102., 103., 104., 105., 106., 107.,\n",
      "        108., 109., 110., 111., 112., 113., 114., 115., 116., 117., 118., 119.,\n",
      "        120., 121., 122., 123., 124., 125., 126., 127., 128., 129., 130., 131.,\n",
      "        132., 133., 134., 135., 136., 137., 138., 139., 140., 141., 142., 143.,\n",
      "        144., 145., 146., 147., 148., 149., 150., 151., 152., 153., 154., 155.,\n",
      "        156., 157., 158., 159., 160., 161., 162., 163., 164., 165., 166., 167.,\n",
      "        168., 169., 170., 171., 172., 173., 174., 175., 176., 177., 178., 179.,\n",
      "        180., 181., 182., 183., 184., 185., 186., 187., 188., 189., 190., 191.,\n",
      "        192., 193., 194., 195., 196., 197., 198., 199.])\n",
      "tensor([[0.0022],\n",
      "        [0.0064],\n",
      "        [0.0251],\n",
      "        [0.0286],\n",
      "        [0.0286],\n",
      "        [0.0299],\n",
      "        [0.0472],\n",
      "        [0.0539],\n",
      "        [0.0559],\n",
      "        [0.0573],\n",
      "        [0.0576],\n",
      "        [0.0611],\n",
      "        [0.0671],\n",
      "        [0.0679],\n",
      "        [0.0744],\n",
      "        [0.0752],\n",
      "        [0.0778],\n",
      "        [0.0803],\n",
      "        [0.0926],\n",
      "        [0.1011],\n",
      "        [0.1034],\n",
      "        [0.1069],\n",
      "        [0.1129],\n",
      "        [0.1134],\n",
      "        [0.1166],\n",
      "        [0.1289],\n",
      "        [0.1422],\n",
      "        [0.1478],\n",
      "        [0.1516],\n",
      "        [0.1565],\n",
      "        [0.1571],\n",
      "        [0.1605],\n",
      "        [0.1680],\n",
      "        [0.1710],\n",
      "        [0.1729],\n",
      "        [0.1742],\n",
      "        [0.1787],\n",
      "        [0.1900],\n",
      "        [0.1939],\n",
      "        [0.1955],\n",
      "        [0.1988],\n",
      "        [0.2024],\n",
      "        [0.2039],\n",
      "        [0.2084],\n",
      "        [0.2131],\n",
      "        [0.2158],\n",
      "        [0.2240],\n",
      "        [0.2274],\n",
      "        [0.2293],\n",
      "        [0.2298],\n",
      "        [0.2358],\n",
      "        [0.2368],\n",
      "        [0.2450],\n",
      "        [0.2542],\n",
      "        [0.2553],\n",
      "        [0.2639],\n",
      "        [0.2755],\n",
      "        [0.2808],\n",
      "        [0.3073],\n",
      "        [0.3091],\n",
      "        [0.3152],\n",
      "        [0.3170],\n",
      "        [0.3208],\n",
      "        [0.3343],\n",
      "        [0.3361],\n",
      "        [0.3414],\n",
      "        [0.3460],\n",
      "        [0.3562],\n",
      "        [0.3637],\n",
      "        [0.3647],\n",
      "        [0.3727],\n",
      "        [0.3753],\n",
      "        [0.3807],\n",
      "        [0.3841],\n",
      "        [0.3936],\n",
      "        [0.3942],\n",
      "        [0.4022],\n",
      "        [0.4033],\n",
      "        [0.4040],\n",
      "        [0.4131],\n",
      "        [0.4161],\n",
      "        [0.4178],\n",
      "        [0.4248],\n",
      "        [0.4318],\n",
      "        [0.4363],\n",
      "        [0.4400],\n",
      "        [0.4420],\n",
      "        [0.4442],\n",
      "        [0.4562],\n",
      "        [0.4566],\n",
      "        [0.4577],\n",
      "        [0.4650],\n",
      "        [0.4739],\n",
      "        [0.4764],\n",
      "        [0.4840],\n",
      "        [0.4984],\n",
      "        [0.5002],\n",
      "        [0.5012],\n",
      "        [0.5038],\n",
      "        [0.5089],\n",
      "        [0.5126],\n",
      "        [0.5249],\n",
      "        [0.5327],\n",
      "        [0.5350],\n",
      "        [0.5393],\n",
      "        [0.5477],\n",
      "        [0.5485],\n",
      "        [0.5517],\n",
      "        [0.5531],\n",
      "        [0.5706],\n",
      "        [0.5723],\n",
      "        [0.5734],\n",
      "        [0.5773],\n",
      "        [0.5775],\n",
      "        [0.5845],\n",
      "        [0.5858],\n",
      "        [0.5911],\n",
      "        [0.5957],\n",
      "        [0.5960],\n",
      "        [0.6075],\n",
      "        [0.6102],\n",
      "        [0.6213],\n",
      "        [0.6316],\n",
      "        [0.6344],\n",
      "        [0.6361],\n",
      "        [0.6380],\n",
      "        [0.6431],\n",
      "        [0.6446],\n",
      "        [0.6467],\n",
      "        [0.6472],\n",
      "        [0.6522],\n",
      "        [0.6550],\n",
      "        [0.6569],\n",
      "        [0.6614],\n",
      "        [0.6654],\n",
      "        [0.6662],\n",
      "        [0.6670],\n",
      "        [0.6673],\n",
      "        [0.6697],\n",
      "        [0.6707],\n",
      "        [0.6931],\n",
      "        [0.7000],\n",
      "        [0.7033],\n",
      "        [0.7082],\n",
      "        [0.7142],\n",
      "        [0.7164],\n",
      "        [0.7167],\n",
      "        [0.7178],\n",
      "        [0.7179],\n",
      "        [0.7198],\n",
      "        [0.7203],\n",
      "        [0.7211],\n",
      "        [0.7225],\n",
      "        [0.7357],\n",
      "        [0.7486],\n",
      "        [0.7617],\n",
      "        [0.7667],\n",
      "        [0.7711],\n",
      "        [0.7806],\n",
      "        [0.7851],\n",
      "        [0.7908],\n",
      "        [0.8020],\n",
      "        [0.8046],\n",
      "        [0.8134],\n",
      "        [0.8146],\n",
      "        [0.8295],\n",
      "        [0.8394],\n",
      "        [0.8475],\n",
      "        [0.8480],\n",
      "        [0.8531],\n",
      "        [0.8537],\n",
      "        [0.8566],\n",
      "        [0.8572],\n",
      "        [0.8732],\n",
      "        [0.8780],\n",
      "        [0.8811],\n",
      "        [0.8823],\n",
      "        [0.8863],\n",
      "        [0.8877],\n",
      "        [0.8929],\n",
      "        [0.8984],\n",
      "        [0.9012],\n",
      "        [0.9028],\n",
      "        [0.9044],\n",
      "        [0.9163],\n",
      "        [0.9216],\n",
      "        [0.9219],\n",
      "        [0.9291],\n",
      "        [0.9397],\n",
      "        [0.9443],\n",
      "        [0.9466],\n",
      "        [0.9547],\n",
      "        [0.9570],\n",
      "        [0.9695],\n",
      "        [0.9720],\n",
      "        [0.9756],\n",
      "        [0.9792],\n",
      "        [0.9919],\n",
      "        [0.9951],\n",
      "        [0.9958]])\n"
     ]
    }
   ],
   "source": [
    "print((quants * tau)[0])\n",
    "print(quants)\n",
    "print(tau)"
   ]
  },
  {
   "cell_type": "code",
   "execution_count": 21,
   "metadata": {},
   "outputs": [
    {
     "name": "stderr",
     "output_type": "stream",
     "text": [
      "/home/sufedc_nvidia_wangjianing/anaconda3/envs/rl/lib/python3.7/site-packages/gym/envs/registration.py:14: PkgResourcesDeprecationWarning: Parameters to load are deprecated.  Call .resolve and .require separately.\n",
      "  result = entry_point.load(False)\n"
     ]
    }
   ],
   "source": [
    "env= gym.make('BreakoutNoFrameskip-v4')\n",
    "s = env.reset()"
   ]
  },
  {
   "cell_type": "code",
   "execution_count": null,
   "metadata": {},
   "outputs": [],
   "source": [
    "# s = env.reset()\n",
    "#0-不动，1跳,2上，3右走，4左走，5下，6右走，7左走，8右走，9左走，10跳（上绳子），11右跳\n",
    "#12左走，13下，14右走，15左走，16右走\n",
    "for i in range(3):\n",
    "    s,r,d,_ = env.step(0)\n",
    "print(r)\n",
    "plt.imshow(s)\n",
    "plt.xticks([])\n",
    "plt.yticks([])"
   ]
  },
  {
   "cell_type": "code",
   "execution_count": 1022,
   "metadata": {},
   "outputs": [
    {
     "data": {
      "text/plain": [
       "([], <a list of 0 Text yticklabel objects>)"
      ]
     },
     "execution_count": 1022,
     "metadata": {},
     "output_type": "execute_result"
    },
    {
     "data": {
      "image/png": "[encoded data removed]",
      "text/plain": [
       "<Figure size 432x288 with 1 Axes>"
      ]
     },
     "metadata": {},
     "output_type": "display_data"
    }
   ],
   "source": [
    "plt.imshow(s)\n",
    "plt.xticks([])\n",
    "plt.yticks([])"
   ]
  },
  {
   "cell_type": "markdown",
   "metadata": {},
   "source": [
    "#### "
   ]
  },
  {
   "cell_type": "code",
   "execution_count": 65,
   "metadata": {},
   "outputs": [
    {
     "data": {
      "text/plain": [
       "tensor([3., 3.])"
      ]
     },
     "execution_count": 65,
     "metadata": {},
     "output_type": "execute_result"
    }
   ],
   "source": []
  },
  {
   "cell_type": "code",
   "execution_count": 395,
   "metadata": {},
   "outputs": [
    {
     "data": {
      "text/plain": [
       "37.800000000000004"
      ]
     },
     "execution_count": 395,
     "metadata": {},
     "output_type": "execute_result"
    }
   ],
   "source": [
    "2.7*14"
   ]
  },
  {
   "cell_type": "code",
   "execution_count": 394,
   "metadata": {},
   "outputs": [
    {
     "data": {
      "text/plain": [
       "1690"
      ]
     },
     "execution_count": 394,
     "metadata": {},
     "output_type": "execute_result"
    }
   ],
   "source": [
    "26*65"
   ]
  },
  {
   "cell_type": "code",
   "execution_count": null,
   "metadata": {},
   "outputs": [],
   "source": []
  }
 ],
 "metadata": {
  "kernelspec": {
   "display_name": "rl",
   "language": "python",
   "name": "rl"
  },
  "language_info": {
   "codemirror_mode": {
    "name": "ipython",
    "version": 2
   },
   "file_extension": ".py",
   "mimetype": "text/x-python",
   "name": "python",
   "nbconvert_exporter": "python",
   "pygments_lexer": "ipython2",
   "version": "2.7.18"
  }
 },
 "nbformat": 4,
 "nbformat_minor": 2
}

{
 "cells": [
  {
   "cell_type": "code",
   "execution_count": 1,
   "metadata": {},
   "outputs": [
    {
     "name": "stdout",
     "output_type": "stream",
     "text": [
      "WARNING:tensorflow:From /home/ec2-user/SageMaker/PG/RL_brain.py:19: The name tf.set_random_seed is deprecated. Please use tf.compat.v1.set_random_seed instead.\n",
      "\n"
     ]
    }
   ],
   "source": [
    "\"\"\"\n",
    "Policy Gradient, Reinforcement Learning.\n",
    "\n",
    "\n",
    "Using:\n",
    "Tensorflow: 1.0\n",
    "How to parallel?\n",
    "\"\"\"\n",
    "from _util import * \n",
    "\n",
    "\n",
    "from PG import RL_brain as pg\n",
    "import matplotlib.pyplot as plt\n",
    "\n",
    "reload(pg)\n",
    "\n",
    "## make ohio into an iterative environment\n",
    "import simulation.Ohio_Simulator as Ohio\n",
    "reload(Ohio)\n",
    "env = Ohio.OhioSimulator(sd_G = 3, T = 24, N = 1000)"
   ]
  },
  {
   "cell_type": "code",
   "execution_count": 2,
   "metadata": {},
   "outputs": [
    {
     "name": "stdout",
     "output_type": "stream",
     "text": [
      "WARNING:tensorflow:From /home/ec2-user/SageMaker/PG/RL_brain.py:53: The name tf.placeholder is deprecated. Please use tf.compat.v1.placeholder instead.\n",
      "\n",
      "WARNING:tensorflow:From /home/ec2-user/SageMaker/PG/RL_brain.py:64: The name tf.AUTO_REUSE is deprecated. Please use tf.compat.v1.AUTO_REUSE instead.\n",
      "\n",
      "WARNING:tensorflow:From /home/ec2-user/SageMaker/PG/RL_brain.py:64: dense (from tensorflow.python.layers.core) is deprecated and will be removed in a future version.\n",
      "Instructions for updating:\n",
      "Use keras.layers.Dense instead.\n",
      "WARNING:tensorflow:From /home/ec2-user/anaconda3/envs/amazonei_tensorflow_p36/lib/python3.6/site-packages/tensorflow_core/python/layers/core.py:187: Layer.apply (from tensorflow.python.keras.engine.base_layer) is deprecated and will be removed in a future version.\n",
      "Instructions for updating:\n",
      "Please use `layer.__call__` method instead.\n",
      "WARNING:tensorflow:From /home/ec2-user/SageMaker/PG/RL_brain.py:86: The name tf.train.AdamOptimizer is deprecated. Please use tf.compat.v1.train.AdamOptimizer instead.\n",
      "\n",
      "WARNING:tensorflow:From /home/ec2-user/SageMaker/PG/RL_brain.py:87: The name tf.add_check_numerics_ops is deprecated. Please use tf.compat.v1.add_check_numerics_ops instead.\n",
      "\n",
      "WARNING:tensorflow:From /home/ec2-user/SageMaker/PG/RL_brain.py:40: The name tf.Session is deprecated. Please use tf.compat.v1.Session instead.\n",
      "\n",
      "WARNING:tensorflow:From /home/ec2-user/SageMaker/PG/RL_brain.py:48: The name tf.global_variables_initializer is deprecated. Please use tf.compat.v1.global_variables_initializer instead.\n",
      "\n"
     ]
    }
   ],
   "source": [
    "try:\n",
    "    RL.reset()\n",
    "except:\n",
    "    pass\n",
    "gamma = 0.8\n",
    "lr = 0.00005\n",
    "n_epoch = 50000\n",
    "T = 24\n",
    "e_values = zeros(n_epoch)\n",
    "k = 0\n",
    "\n",
    "RL = pg.PolicyGradient(\n",
    "    n_actions= 5,\n",
    "    n_features = 15,\n",
    "    learning_rate = lr,\n",
    "    reward_decay = gamma)\n",
    "\n"
   ]
  },
  {
   "cell_type": "code",
   "execution_count": 3,
   "metadata": {},
   "outputs": [
    {
     "data": {
      "image/png": "[encoded data removed]",
      "text/plain": [
       "<Figure size 864x576 with 2 Axes>"
      ]
     },
     "metadata": {
      "needs_background": "light"
     },
     "output_type": "display_data"
    },
    {
     "name": "stdout",
     "output_type": "stream",
     "text": [
      "value\n",
      "\tvalue            \t (min:  -54.199, max:  -29.999, cur:  -31.913)\n"
     ]
    }
   ],
   "source": [
    "breaker = 0\n",
    "recorders = {}\n",
    "groups = {'value': ['value']}\n",
    "plotlosses = PlotLosses(groups=groups)\n",
    "for i in range(n_epoch):\n",
    "    recorders[i] = {\"state\" : [], \"action\" : [], \"reward\" : []}\n",
    "    observation = env.reset(T)\n",
    "#     if i == 850:\n",
    "#         break\n",
    "    while True:\n",
    "        action = RL.choose_action(observation)\n",
    "\n",
    "        observation_, reward, done = env.online_step(action)\n",
    "        RL.store_transition(observation, action, reward)\n",
    "\n",
    "        recorders[i][\"state\"].append(observation)\n",
    "        recorders[i][\"action\"].append(action)\n",
    "        recorders[i][\"reward\"].append(reward)\n",
    "\n",
    "        if done:\n",
    "            running_rewards = RL.ep_rs.copy()\n",
    "            gammas = arr([gamma ** t for t in range(len(running_rewards))])\n",
    "            e_values[i] = np.sum(running_rewards * gammas)\n",
    "            if i >= 100 and i % 100 == 0:\n",
    "                if i >= 5000:\n",
    "                    v = np.mean(e_values[(i - 5000):i])\n",
    "                elif i >= 1000:\n",
    "                    v = np.mean(e_values[(i - 1000):i])\n",
    "                else:\n",
    "                    v = np.mean(e_values[(i - 100):i])\n",
    "                print(\"episode:\", i, \"  reward:\", v)\n",
    "                plotlosses.update({'value': v})\n",
    "                plotlosses.send()\n",
    "            vt = RL.learn()\n",
    "            break\n",
    "\n",
    "        observation = observation_\n"
   ]
  },
  {
   "cell_type": "code",
   "execution_count": null,
   "metadata": {},
   "outputs": [],
   "source": []
  }
 ],
 "metadata": {
  "kernelspec": {
   "display_name": "conda_amazonei_tensorflow_p36",
   "language": "python",
   "name": "conda_amazonei_tensorflow_p36"
  },
  "language_info": {
   "codemirror_mode": {
    "name": "ipython",
    "version": 3
   },
   "file_extension": ".py",
   "mimetype": "text/x-python",
   "name": "python",
   "nbconvert_exporter": "python",
   "pygments_lexer": "ipython3",
   "version": "3.6.10"
  }
 },
 "nbformat": 4,
 "nbformat_minor": 4
}
